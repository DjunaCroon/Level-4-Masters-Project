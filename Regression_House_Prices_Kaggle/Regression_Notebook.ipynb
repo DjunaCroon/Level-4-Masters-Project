{
 "cells": [
  {
   "cell_type": "code",
   "execution_count": 1,
   "metadata": {},
   "outputs": [
    {
     "name": "stderr",
     "output_type": "stream",
     "text": [
      "/home/sean/anaconda3/envs/tf-gpu-cuda8/lib/python3.7/site-packages/tensorflow/python/framework/dtypes.py:516: FutureWarning: Passing (type, 1) or '1type' as a synonym of type is deprecated; in a future version of numpy, it will be understood as (type, (1,)) / '(1,)type'.\n",
      "  _np_qint8 = np.dtype([(\"qint8\", np.int8, 1)])\n",
      "/home/sean/anaconda3/envs/tf-gpu-cuda8/lib/python3.7/site-packages/tensorflow/python/framework/dtypes.py:517: FutureWarning: Passing (type, 1) or '1type' as a synonym of type is deprecated; in a future version of numpy, it will be understood as (type, (1,)) / '(1,)type'.\n",
      "  _np_quint8 = np.dtype([(\"quint8\", np.uint8, 1)])\n",
      "/home/sean/anaconda3/envs/tf-gpu-cuda8/lib/python3.7/site-packages/tensorflow/python/framework/dtypes.py:518: FutureWarning: Passing (type, 1) or '1type' as a synonym of type is deprecated; in a future version of numpy, it will be understood as (type, (1,)) / '(1,)type'.\n",
      "  _np_qint16 = np.dtype([(\"qint16\", np.int16, 1)])\n",
      "/home/sean/anaconda3/envs/tf-gpu-cuda8/lib/python3.7/site-packages/tensorflow/python/framework/dtypes.py:519: FutureWarning: Passing (type, 1) or '1type' as a synonym of type is deprecated; in a future version of numpy, it will be understood as (type, (1,)) / '(1,)type'.\n",
      "  _np_quint16 = np.dtype([(\"quint16\", np.uint16, 1)])\n",
      "/home/sean/anaconda3/envs/tf-gpu-cuda8/lib/python3.7/site-packages/tensorflow/python/framework/dtypes.py:520: FutureWarning: Passing (type, 1) or '1type' as a synonym of type is deprecated; in a future version of numpy, it will be understood as (type, (1,)) / '(1,)type'.\n",
      "  _np_qint32 = np.dtype([(\"qint32\", np.int32, 1)])\n",
      "/home/sean/anaconda3/envs/tf-gpu-cuda8/lib/python3.7/site-packages/tensorflow/python/framework/dtypes.py:525: FutureWarning: Passing (type, 1) or '1type' as a synonym of type is deprecated; in a future version of numpy, it will be understood as (type, (1,)) / '(1,)type'.\n",
      "  np_resource = np.dtype([(\"resource\", np.ubyte, 1)])\n",
      "/home/sean/anaconda3/envs/tf-gpu-cuda8/lib/python3.7/site-packages/tensorboard/compat/tensorflow_stub/dtypes.py:541: FutureWarning: Passing (type, 1) or '1type' as a synonym of type is deprecated; in a future version of numpy, it will be understood as (type, (1,)) / '(1,)type'.\n",
      "  _np_qint8 = np.dtype([(\"qint8\", np.int8, 1)])\n",
      "/home/sean/anaconda3/envs/tf-gpu-cuda8/lib/python3.7/site-packages/tensorboard/compat/tensorflow_stub/dtypes.py:542: FutureWarning: Passing (type, 1) or '1type' as a synonym of type is deprecated; in a future version of numpy, it will be understood as (type, (1,)) / '(1,)type'.\n",
      "  _np_quint8 = np.dtype([(\"quint8\", np.uint8, 1)])\n",
      "/home/sean/anaconda3/envs/tf-gpu-cuda8/lib/python3.7/site-packages/tensorboard/compat/tensorflow_stub/dtypes.py:543: FutureWarning: Passing (type, 1) or '1type' as a synonym of type is deprecated; in a future version of numpy, it will be understood as (type, (1,)) / '(1,)type'.\n",
      "  _np_qint16 = np.dtype([(\"qint16\", np.int16, 1)])\n",
      "/home/sean/anaconda3/envs/tf-gpu-cuda8/lib/python3.7/site-packages/tensorboard/compat/tensorflow_stub/dtypes.py:544: FutureWarning: Passing (type, 1) or '1type' as a synonym of type is deprecated; in a future version of numpy, it will be understood as (type, (1,)) / '(1,)type'.\n",
      "  _np_quint16 = np.dtype([(\"quint16\", np.uint16, 1)])\n",
      "/home/sean/anaconda3/envs/tf-gpu-cuda8/lib/python3.7/site-packages/tensorboard/compat/tensorflow_stub/dtypes.py:545: FutureWarning: Passing (type, 1) or '1type' as a synonym of type is deprecated; in a future version of numpy, it will be understood as (type, (1,)) / '(1,)type'.\n",
      "  _np_qint32 = np.dtype([(\"qint32\", np.int32, 1)])\n",
      "/home/sean/anaconda3/envs/tf-gpu-cuda8/lib/python3.7/site-packages/tensorboard/compat/tensorflow_stub/dtypes.py:550: FutureWarning: Passing (type, 1) or '1type' as a synonym of type is deprecated; in a future version of numpy, it will be understood as (type, (1,)) / '(1,)type'.\n",
      "  np_resource = np.dtype([(\"resource\", np.ubyte, 1)])\n"
     ]
    }
   ],
   "source": [
    "import tensorflow as tf \n",
    "from tensorflow import keras\n",
    "from tensorflow.keras import layers \n",
    "from tensorflow.keras import models \n",
    "import numpy as np\n",
    "import matplotlib.pyplot as plt \n",
    "import pandas as pd\n",
    "from scipy.stats import lognorm\n",
    "from scipy.stats import norm"
   ]
  },
  {
   "cell_type": "code",
   "execution_count": 2,
   "metadata": {},
   "outputs": [],
   "source": [
    "train_data = pd.read_csv('./train.csv')\n",
    "test_data = pd.read_csv('./test.csv')\n",
    "cut = 1300\n",
    "train_data_x , train_data_y  = train_data.iloc[:cut,1:-1].copy(), train_data.iloc[:cut,-1].copy()\n",
    "val_data_x , val_data_y = train_data.iloc[cut:,1:-1].copy(), train_data.iloc[cut:,-1].copy()\n",
    "test_data_x  = test_data\n"
   ]
  },
  {
   "cell_type": "code",
   "execution_count": 3,
   "metadata": {},
   "outputs": [],
   "source": [
    "def gaus(x, mean,std):##Gaussian\n",
    "    return 1/(std*(2*np.pi)**0.5)*np.exp(-0.5*((x-mean)/std)**2)\n",
    "\n",
    "def bin_bisect(bins):## Bin Bisector \n",
    "    bisects = np.zeros(len(bins)-1)\n",
    "    for i in range(len(bins)-1):\n",
    "        bisects[i] = (bins[i]+bins[i+1])/2\n",
    "    return(bisects)\n",
    "\n",
    "def rss(observed,expected):##Chisquared value \n",
    "    return(np.sum((observed-expected)**2))"
   ]
  },
  {
   "cell_type": "markdown",
   "metadata": {},
   "source": [
    "All numerical data can be easily normalized. \n",
    "for the non nunmerical entries, The number of unique entries should be considered. "
   ]
  },
  {
   "cell_type": "markdown",
   "metadata": {},
   "source": [
    "To Do\n",
    "-Plot input data \n",
    "-stdev"
   ]
  },
  {
   "cell_type": "code",
   "execution_count": 4,
   "metadata": {},
   "outputs": [
    {
     "name": "stdout",
     "output_type": "stream",
     "text": [
      "180983.51461538463\n",
      "1.2151782995734465e-11\n",
      "1.5721638628623447e-10\n"
     ]
    },
    {
     "data": {
      "image/png": "[encoded data removed]",
      "text/plain": [
       "<Figure size 720x360 with 1 Axes>"
      ]
     },
     "metadata": {
      "needs_background": "light"
     },
     "output_type": "display_data"
    }
   ],
   "source": [
    "fig = plt.figure(figsize=(10,5))\n",
    "vals, bins , _ = plt.hist(train_data_y,50, density= True, color = 'black', alpha = 0.3)\n",
    "\n",
    "##variables stuff\n",
    "bin_bisects = bin_bisect(bins)\n",
    "sigma, mean, scale = lognorm.fit(train_data_y)\n",
    "sigma_norm, mean_norm = np.mean(train_data_y), np.std(train_data_y)\n",
    "fit_norm = gaus(bin_bisects,mean_norm,sigma_norm)\n",
    "fit = lognorm.pdf(bin_bisects, sigma, scale = scale)\n",
    "\n",
    "print(np.mean(train_data_y))\n",
    "##Plotting \n",
    "\n",
    "\n",
    "plt.plot(bin_bisects, fit, c = 'black', label = 'Log-Norm')\n",
    "plt.plot(bin_bisects, fit_norm, c = 'black',linestyle = '--', label = 'Normal')\n",
    "plt.xticks(range(0,800000,100000),range(0,800,100))\n",
    "plt.xlabel('House Price ($1000)')\n",
    "plt.ylabel('Frequency Density')\n",
    "## Fits \n",
    "print(rss(vals,fit))\n",
    "print(rss(vals,fit_norm))\n",
    "plt.legend()\n",
    "fig.savefig('../Kaggle_Housing_Figures/Data_Dist.png',dpi = 300)"
   ]
  },
  {
   "cell_type": "code",
   "execution_count": 5,
   "metadata": {},
   "outputs": [
    {
     "name": "stdout",
     "output_type": "stream",
     "text": [
      "80391.86255758676\n",
      "4752.366233511897\n"
     ]
    }
   ],
   "source": [
    "###Finding MAE with random variables distributed according to the pdf \n",
    "\n",
    "random_variable = lognorm.rvs(sigma,loc = mean,size = len(val_data_y)*1000,scale = scale)\n",
    "rv_mean = np.zeros(1000)\n",
    "for i in range(1000):\n",
    "    chunk = random_variable[160*i:160*(i+1)]\n",
    "    rv_mean[i] = np.mean(abs(val_data_y -random_variable[160*i:160*(i+1)]))\n",
    "\n",
    "print(np.mean(rv_mean))\n",
    "print(np.std(rv_mean))"
   ]
  },
  {
   "cell_type": "markdown",
   "metadata": {},
   "source": [
    "## Functions For Processing Input data \n",
    "Data is normalised either with some form of gaussian or between 0-1 depending on what it is"
   ]
  },
  {
   "cell_type": "markdown",
   "metadata": {},
   "source": [
    "I am going to remove the top 5% of house prices. I think that ftting a lognorm dist is going to be the best bet for this. "
   ]
  },
  {
   "cell_type": "code",
   "execution_count": 6,
   "metadata": {},
   "outputs": [],
   "source": [
    "##excluding top 5%\n",
    "#index = np.where(train_data_y < np.percentile(train_data_y,95))\n",
    "\n",
    "#train_data_y , train_data_x    = train_data_y.iloc[index], train_data_x.iloc[index]\n",
    "#train_data_x  = np.delete(train_data_x,drop_index)\n"
   ]
  },
  {
   "cell_type": "code",
   "execution_count": 7,
   "metadata": {},
   "outputs": [],
   "source": [
    "def atributes_to_int(series):\n",
    "    unique_ent = pd.unique(series)\n",
    "    num_unique_ent = len(unique_ent)\n",
    "    for i in range(num_unique_ent):\n",
    "        index = np.where(unique_ent[i] == series)\n",
    "        series.iloc[index] = i\n",
    "    return series/num_unique_ent ### I divided by the number of unique entries so that all the values in the input columns are between 0-1\n",
    "\n",
    "def normalise(series):\n",
    "    mean = np.mean(series)\n",
    "    std = np.std(series)\n",
    "    if std == 0:\n",
    "        return (series - mean)\n",
    "    else:\n",
    "        return((series - mean)/std)\n",
    "\n",
    "def column_processor(series):\n",
    "    \n",
    "    #series = series.fillna(0)\n",
    "    if series.dtype == object:\n",
    "        norm_series = atributes_to_int(series)\n",
    "    if series.dtype == int or float:\n",
    "        norm_series = normalise(series)\n",
    "    return norm_series\n",
    "\n",
    "def process_input_data(data):\n",
    "    data = data.fillna(0)\n",
    "    for i in range(len(data.iloc[0])):\n",
    "        data.iloc[:,i] = column_processor(data.iloc[:,i])\n",
    "    return data\n",
    "def expn_smooth(function,smoothing_param):\n",
    "    smoothed_function = np.zeros_like(function)\n",
    "    smoothed_function[0] = function[0]\n",
    "    for i in range(1,len(function)):\n",
    "        smoothed_function[i] = function[i]*(smoothing_param)+(1-smoothing_param)*smoothed_function[i-1]\n",
    "    return smoothed_function"
   ]
  },
  {
   "cell_type": "code",
   "execution_count": 8,
   "metadata": {},
   "outputs": [
    {
     "name": "stderr",
     "output_type": "stream",
     "text": [
      "/home/sean/anaconda3/envs/tf-gpu-cuda8/lib/python3.7/site-packages/pandas/core/indexing.py:1732: SettingWithCopyWarning: \n",
      "A value is trying to be set on a copy of a slice from a DataFrame\n",
      "\n",
      "See the caveats in the documentation: https://pandas.pydata.org/pandas-docs/stable/user_guide/indexing.html#returning-a-view-versus-a-copy\n",
      "  self._setitem_single_block(indexer, value, name)\n"
     ]
    }
   ],
   "source": [
    "train_data_x = process_input_data(train_data_x)\n",
    "val_data_x = process_input_data(val_data_x)"
   ]
  },
  {
   "cell_type": "code",
   "execution_count": 9,
   "metadata": {},
   "outputs": [
    {
     "name": "stdout",
     "output_type": "stream",
     "text": [
      "[-0.23661361647023868 2.509794431845032 5.256202480160303]\n"
     ]
    }
   ],
   "source": [
    "print(pd.unique(train_data_x['Alley']))\n",
    "#print(train_data_x.columns)"
   ]
  },
  {
   "cell_type": "markdown",
   "metadata": {},
   "source": [
    "## Neural Net"
   ]
  },
  {
   "cell_type": "code",
   "execution_count": 10,
   "metadata": {},
   "outputs": [],
   "source": [
    "def build_model(num_layers,layer_size):\n",
    "    model = models.Sequential()\n",
    "    model.add(layers.Dense(layer_size[0],activation= 'relu',input_shape = (train_data_x.shape[1],)))\n",
    "    for i in range(1,num_layers):\n",
    "        model.add(layers.Dense(layer_size[i],activation = 'relu'))\n",
    "    model.add(layers.Dense(1))\n",
    "    opt = keras.optimizers.SGD(learning_rate= .01)\n",
    "    model.compile(optimizer = opt,loss = 'mse', metrics = ['mae'])\n",
    "    return model"
   ]
  },
  {
   "cell_type": "code",
   "execution_count": 11,
   "metadata": {},
   "outputs": [
    {
     "name": "stdout",
     "output_type": "stream",
     "text": [
      "WARNING:tensorflow:From /home/sean/anaconda3/envs/tf-gpu-cuda8/lib/python3.7/site-packages/tensorflow/python/ops/init_ops.py:1251: calling VarianceScaling.__init__ (from tensorflow.python.ops.init_ops) with dtype is deprecated and will be removed in a future version.\n",
      "Instructions for updating:\n",
      "Call initializer instance with the dtype argument instead of passing it to the constructor\n"
     ]
    },
    {
     "name": "stderr",
     "output_type": "stream",
     "text": [
      "2021-10-23 14:07:41.309564: I tensorflow/core/platform/cpu_feature_guard.cc:142] Your CPU supports instructions that this TensorFlow binary was not compiled to use: SSE4.1 SSE4.2 AVX AVX2 FMA\n",
      "2021-10-23 14:07:41.339735: I tensorflow/core/platform/profile_utils/cpu_utils.cc:94] CPU Frequency: 3700155000 Hz\n",
      "2021-10-23 14:07:41.340780: I tensorflow/compiler/xla/service/service.cc:168] XLA service 0x55ffd83b6c90 executing computations on platform Host. Devices:\n",
      "2021-10-23 14:07:41.341055: I tensorflow/compiler/xla/service/service.cc:175]   StreamExecutor device (0): <undefined>, <undefined>\n",
      "2021-10-23 14:07:41.343121: I tensorflow/stream_executor/platform/default/dso_loader.cc:42] Successfully opened dynamic library libcuda.so.1\n",
      "2021-10-23 14:07:41.369967: I tensorflow/stream_executor/cuda/cuda_gpu_executor.cc:1005] successful NUMA node read from SysFS had negative value (-1), but there must be at least one NUMA node, so returning NUMA node zero\n",
      "2021-10-23 14:07:41.370461: I tensorflow/core/common_runtime/gpu/gpu_device.cc:1640] Found device 0 with properties: \n",
      "name: NVIDIA GeForce GTX 970 major: 5 minor: 2 memoryClockRate(GHz): 1.253\n",
      "pciBusID: 0000:2b:00.0\n",
      "2021-10-23 14:07:41.372453: I tensorflow/stream_executor/platform/default/dso_loader.cc:42] Successfully opened dynamic library libcudart.so.9.0\n",
      "2021-10-23 14:07:41.400004: I tensorflow/stream_executor/platform/default/dso_loader.cc:42] Successfully opened dynamic library libcublas.so.9.0\n",
      "2021-10-23 14:07:41.411368: I tensorflow/stream_executor/platform/default/dso_loader.cc:42] Successfully opened dynamic library libcufft.so.9.0\n",
      "2021-10-23 14:07:41.415398: I tensorflow/stream_executor/platform/default/dso_loader.cc:42] Successfully opened dynamic library libcurand.so.9.0\n",
      "2021-10-23 14:07:41.436309: I tensorflow/stream_executor/platform/default/dso_loader.cc:42] Successfully opened dynamic library libcusolver.so.9.0\n",
      "2021-10-23 14:07:41.456369: I tensorflow/stream_executor/platform/default/dso_loader.cc:42] Successfully opened dynamic library libcusparse.so.9.0\n",
      "2021-10-23 14:07:41.506067: I tensorflow/stream_executor/platform/default/dso_loader.cc:42] Successfully opened dynamic library libcudnn.so.7\n",
      "2021-10-23 14:07:41.506238: I tensorflow/stream_executor/cuda/cuda_gpu_executor.cc:1005] successful NUMA node read from SysFS had negative value (-1), but there must be at least one NUMA node, so returning NUMA node zero\n",
      "2021-10-23 14:07:41.506533: I tensorflow/stream_executor/cuda/cuda_gpu_executor.cc:1005] successful NUMA node read from SysFS had negative value (-1), but there must be at least one NUMA node, so returning NUMA node zero\n",
      "2021-10-23 14:07:41.506724: I tensorflow/core/common_runtime/gpu/gpu_device.cc:1763] Adding visible gpu devices: 0\n",
      "2021-10-23 14:07:41.507165: I tensorflow/stream_executor/platform/default/dso_loader.cc:42] Successfully opened dynamic library libcudart.so.9.0\n",
      "2021-10-23 14:07:41.538056: I tensorflow/core/common_runtime/gpu/gpu_device.cc:1181] Device interconnect StreamExecutor with strength 1 edge matrix:\n",
      "2021-10-23 14:07:41.538075: I tensorflow/core/common_runtime/gpu/gpu_device.cc:1187]      0 \n",
      "2021-10-23 14:07:41.538079: I tensorflow/core/common_runtime/gpu/gpu_device.cc:1200] 0:   N \n",
      "2021-10-23 14:07:41.538260: I tensorflow/stream_executor/cuda/cuda_gpu_executor.cc:1005] successful NUMA node read from SysFS had negative value (-1), but there must be at least one NUMA node, so returning NUMA node zero\n",
      "2021-10-23 14:07:41.538536: I tensorflow/stream_executor/cuda/cuda_gpu_executor.cc:1005] successful NUMA node read from SysFS had negative value (-1), but there must be at least one NUMA node, so returning NUMA node zero\n",
      "2021-10-23 14:07:41.538849: I tensorflow/stream_executor/cuda/cuda_gpu_executor.cc:1005] successful NUMA node read from SysFS had negative value (-1), but there must be at least one NUMA node, so returning NUMA node zero\n",
      "2021-10-23 14:07:41.539093: I tensorflow/core/common_runtime/gpu/gpu_device.cc:1326] Created TensorFlow device (/job:localhost/replica:0/task:0/device:GPU:0 with 2974 MB memory) -> physical GPU (device: 0, name: NVIDIA GeForce GTX 970, pci bus id: 0000:2b:00.0, compute capability: 5.2)\n",
      "2021-10-23 14:07:41.540436: I tensorflow/compiler/xla/service/service.cc:168] XLA service 0x55ffdc96add0 executing computations on platform CUDA. Devices:\n",
      "2021-10-23 14:07:41.540446: I tensorflow/compiler/xla/service/service.cc:175]   StreamExecutor device (0): NVIDIA GeForce GTX 970, Compute Capability 5.2\n",
      "2021-10-23 14:07:42.601033: I tensorflow/stream_executor/platform/default/dso_loader.cc:42] Successfully opened dynamic library libcublas.so.9.0\n"
     ]
    }
   ],
   "source": [
    "model = build_model(2,[128,128])\n",
    "history = model.fit(train_data_x,train_data_y, validation_data= (val_data_x,val_data_y),epochs = 100,batch_size = 80,verbose = 0)\n"
   ]
  },
  {
   "cell_type": "code",
   "execution_count": 12,
   "metadata": {},
   "outputs": [
    {
     "name": "stdout",
     "output_type": "stream",
     "text": [
      "56916.805\n"
     ]
    }
   ],
   "source": [
    "start = 30\n",
    "mae = history.history['val_mean_absolute_error']\n",
    "print(np.min(mae))\n",
    "mae = mae[start:]\n",
    "\n",
    "epochs = range(1,101)\n",
    "epochs = epochs[start:]\n",
    "train_err = history.history['loss']\n",
    "train_err = train_err[start:]"
   ]
  },
  {
   "cell_type": "code",
   "execution_count": 13,
   "metadata": {},
   "outputs": [
    {
     "data": {
      "image/png": "[encoded data removed]",
      "text/plain": [
       "<Figure size 432x288 with 2 Axes>"
      ]
     },
     "metadata": {
      "needs_background": "light"
     },
     "output_type": "display_data"
    }
   ],
   "source": [
    "fig, axs = plt.subplots(1,2,)\n",
    "axs[0].plot(epochs,mae, label = 'Mean Absolute Error', c = 'black')\n",
    "axs[1].plot(epochs,train_err, label = 'Loss Function',c = 'black')\n",
    "\n",
    "axs[0].set_ylabel('Mean Absolute Error')\n",
    "axs[1].set_ylabel('Loss Function (MSE)')\n",
    "axs[0].set_xlabel('Training Epochs')\n",
    "axs[1].set_xlabel('Training Epochs')\n",
    "fig.savefig('../Kaggle_Housing_Figures/Inital Test.png',dpi = 300)\n"
   ]
  },
  {
   "cell_type": "markdown",
   "metadata": {},
   "source": [
    "Using the adam optimiser, which is like rsmprop, but with a momentum effect does reduce the error faster. Editing the learning rate to 0.1 gives a much faster fitting.  "
   ]
  },
  {
   "cell_type": "code",
   "execution_count": 14,
   "metadata": {},
   "outputs": [
    {
     "ename": "SyntaxError",
     "evalue": "invalid syntax (3813421608.py, line 1)",
     "output_type": "error",
     "traceback": [
      "\u001b[0;36m  File \u001b[0;32m\"/tmp/ipykernel_5664/3813421608.py\"\u001b[0;36m, line \u001b[0;32m1\u001b[0m\n\u001b[0;31m    start  =\u001b[0m\n\u001b[0m             ^\u001b[0m\n\u001b[0;31mSyntaxError\u001b[0m\u001b[0;31m:\u001b[0m invalid syntax\n"
     ]
    }
   ],
   "source": [
    "start  = \n",
    "mae_slice  = mae[start:]\n",
    "epochs_slice = epochs[start:]\n",
    "plt.plot(epochs_slice,mae_slice)\n",
    "print(np.min(mae))\n"
   ]
  },
  {
   "cell_type": "markdown",
   "metadata": {},
   "source": [
    "Editing Hyperparams to see if I can get a better value than for 256,256"
   ]
  },
  {
   "cell_type": "code",
   "execution_count": null,
   "metadata": {},
   "outputs": [],
   "source": [
    "def hyperparam_investigator(epoch_num, layer_num,layer_shape,start = 0):\n",
    "    \n",
    "    model = build_model(layer_num,layer_shape)\n",
    "    history = model.fit(train_data_x,train_data_y, validation_data= (val_data_x,val_data_y),epochs = epoch_num ,batch_size = 80,verbose = 1)\n",
    "    mae = (history.history['val_mean_absolute_error'])\n",
    "    train_err = history.history['loss']\n",
    "    epochs = range(1,epoch_num+1)\n",
    "    return [mae , train_err , epochs] \n",
    "    \n",
    "def plotter(hyperparam_investigator_out,mae_smooth = .25, train_err_smooth = 0.25, start_mae = 0,start_train = 0 ):\n",
    "    mae = expn_smooth(hyperparam_investigator_out[0], mae_smooth)\n",
    "    train_err = expn_smooth(hyperparam_investigator_out[1], train_err_smooth)\n",
    "    epochs = hyperparam_investigator_out[2]\n",
    "    fig ,axs = plt.subplots(1,2, figsize = (10,5))\n",
    "    axs[0].set_ylabel('Mean Absolute Error')\n",
    "    axs[0].set_xlabel('Epochs')\n",
    "    axs[1].set_xlabel('Epochs')\n",
    "    axs[1].set_ylabel('Loss Function')\n",
    "    mae_slice  = mae[start_mae:]\n",
    "    train_err_slice = train_err[start_train:]\n",
    "    epochs_slice_train = epochs[start_train:]\n",
    "    epochs_slice_mae = epochs[start_mae:]\n",
    "    axs[0].plot(epochs_slice_mae,mae_slice)\n",
    "    axs[1].plot(epochs_slice_train,train_err_slice)\n",
    "    print(np.min(mae))\n"
   ]
  },
  {
   "cell_type": "code",
   "execution_count": null,
   "metadata": {},
   "outputs": [
    {
     "name": "stdout",
     "output_type": "stream",
     "text": [
      "Train on 1300 samples, validate on 160 samples\n",
      "Epoch 1/300\n",
      "1300/1300 [==============================] - 0s 145us/sample - loss: 368462892225779073024.0000 - mean_absolute_error: 5112946688.0000 - val_loss: 963995170385166336.0000 - val_mean_absolute_error: 981832576.0000\n",
      "Epoch 2/300\n",
      "1300/1300 [==============================] - 0s 22us/sample - loss: 721017268488327808.0000 - mean_absolute_error: 845347136.0000 - val_loss: 485021895003996160.0000 - val_mean_absolute_error: 696435200.0000\n",
      "Epoch 3/300\n",
      "1300/1300 [==============================] - 0s 20us/sample - loss: 362770849816076928.0000 - mean_absolute_error: 599623040.0000 - val_loss: 244032474026344448.0000 - val_mean_absolute_error: 493996448.0000\n",
      "Epoch 4/300\n",
      "1300/1300 [==============================] - 0s 22us/sample - loss: 182523541155552128.0000 - mean_absolute_error: 425325504.0000 - val_loss: 122781638840025088.0000 - val_mean_absolute_error: 350402112.0000\n",
      "Epoch 5/300\n",
      "1300/1300 [==============================] - 0s 21us/sample - loss: 91834300026254384.0000 - mean_absolute_error: 301693120.0000 - val_loss: 61775929810092032.0000 - val_mean_absolute_error: 248547632.0000\n",
      "Epoch 6/300\n",
      "1300/1300 [==============================] - 0s 16us/sample - loss: 46205294446322544.0000 - mean_absolute_error: 213997088.0000 - val_loss: 31081757050667008.0000 - val_mean_absolute_error: 176300176.0000\n",
      "Epoch 7/300\n",
      "1300/1300 [==============================] - 0s 14us/sample - loss: 23247626008240508.0000 - mean_absolute_error: 151793136.0000 - val_loss: 15638262076932096.0000 - val_mean_absolute_error: 125053008.0000\n",
      "Epoch 8/300\n",
      "1300/1300 [==============================] - 0s 13us/sample - loss: 11696679379154724.0000 - mean_absolute_error: 107669816.0000 - val_loss: 7868092591898624.0000 - val_mean_absolute_error: 88702248.0000\n",
      "Epoch 9/300\n",
      "1300/1300 [==============================] - 0s 15us/sample - loss: 5884980778290381.0000 - mean_absolute_error: 76372296.0000 - val_loss: 3958719272452096.0000 - val_mean_absolute_error: 62918312.0000\n",
      "Epoch 10/300\n",
      "1300/1300 [==============================] - 0s 14us/sample - loss: 2960963541123324.0000 - mean_absolute_error: 54172504.0000 - val_loss: 1991782426476544.0000 - val_mean_absolute_error: 44629324.0000\n",
      "Epoch 11/300\n",
      "1300/1300 [==============================] - 0s 14us/sample - loss: 1489782500559824.7500 - mean_absolute_error: 38426140.0000 - val_loss: 1002131532283904.0000 - val_mean_absolute_error: 31656378.0000\n",
      "Epoch 12/300\n",
      "1300/1300 [==============================] - 0s 13us/sample - loss: 749565405887503.7500 - mean_absolute_error: 27256722.0000 - val_loss: 504191730581504.0000 - val_mean_absolute_error: 22454092.0000\n",
      "Epoch 13/300\n",
      "1300/1300 [==============================] - 0s 14us/sample - loss: 377129415515529.8125 - mean_absolute_error: 19333312.0000 - val_loss: 253660030304256.0000 - val_mean_absolute_error: 15926538.0000\n",
      "Epoch 14/300\n",
      "1300/1300 [==============================] - 0s 14us/sample - loss: 189742003979248.2500 - mean_absolute_error: 13712702.0000 - val_loss: 127628392529920.0000 - val_mean_absolute_error: 11297032.0000\n",
      "Epoch 15/300\n",
      "1300/1300 [==============================] - 0s 13us/sample - loss: 95469770375168.0000 - mean_absolute_error: 9727505.0000 - val_loss: 64201129197568.0000 - val_mean_absolute_error: 8012220.0000\n",
      "Epoch 16/300\n",
      "1300/1300 [==============================] - 0s 13us/sample - loss: 48028862470805.6641 - mean_absolute_error: 6898647.0000 - val_loss: 32300917063680.0000 - val_mean_absolute_error: 5682909.0000\n",
      "Epoch 17/300\n",
      "1300/1300 [==============================] - 0s 13us/sample - loss: 24166247456389.9102 - mean_absolute_error: 4893579.0000 - val_loss: 16253485842432.0000 - val_mean_absolute_error: 4030883.5000\n",
      "Epoch 18/300\n",
      "1300/1300 [==============================] - 0s 15us/sample - loss: 12162302145583.2617 - mean_absolute_error: 3471187.0000 - val_loss: 8178171904000.0000 - val_mean_absolute_error: 2858794.7500\n",
      "Epoch 19/300\n",
      "1300/1300 [==============================] - 0s 15us/sample - loss: 6121633869887.0156 - mean_absolute_error: 2461881.2500 - val_loss: 4117091844096.0000 - val_mean_absolute_error: 2027715.2500\n",
      "Epoch 20/300\n",
      "1300/1300 [==============================] - 0s 13us/sample - loss: 3083413344445.0464 - mean_absolute_error: 1746347.8750 - val_loss: 2073637879808.0000 - val_mean_absolute_error: 1438114.8750\n",
      "Epoch 21/300\n",
      "1300/1300 [==============================] - 0s 13us/sample - loss: 1554566697653.1694 - mean_absolute_error: 1238531.7500 - val_loss: 1046865182720.0000 - val_mean_absolute_error: 1020490.8125\n",
      "Epoch 22/300\n",
      "1300/1300 [==============================] - 0s 15us/sample - loss: 786140242802.2153 - mean_absolute_error: 879398.0000 - val_loss: 529206673408.0000 - val_mean_absolute_error: 723701.0000\n",
      "Epoch 23/300\n",
      "1300/1300 [==============================] - 0s 14us/sample - loss: 398782321837.2924 - mean_absolute_error: 623493.5000 - val_loss: 268848128000.0000 - val_mean_absolute_error: 513210.0938\n",
      "Epoch 24/300\n",
      "1300/1300 [==============================] - 0s 15us/sample - loss: 203806042458.5846 - mean_absolute_error: 442541.7500 - val_loss: 137718198272.0000 - val_mean_absolute_error: 363668.3438\n",
      "Epoch 25/300\n",
      "1300/1300 [==============================] - 0s 13us/sample - loss: 105669470743.6308 - mean_absolute_error: 313231.6562 - val_loss: 72132919296.0000 - val_mean_absolute_error: 258204.1562\n",
      "Epoch 26/300\n",
      "1300/1300 [==============================] - 0s 14us/sample - loss: 56490684163.9385 - mean_absolute_error: 222825.8438 - val_loss: 38864095232.0000 - val_mean_absolute_error: 182758.1719\n",
      "Epoch 27/300\n",
      "1300/1300 [==============================] - 0s 14us/sample - loss: 31554493928.3692 - mean_absolute_error: 157722.5781 - val_loss: 22184708096.0000 - val_mean_absolute_error: 129310.3516\n",
      "Epoch 28/300\n",
      "1300/1300 [==============================] - 0s 14us/sample - loss: 19029803165.5385 - mean_absolute_error: 112281.5000 - val_loss: 13812576768.0000 - val_mean_absolute_error: 93490.2500\n",
      "Epoch 29/300\n",
      "1300/1300 [==============================] - 0s 14us/sample - loss: 12739076450.4615 - mean_absolute_error: 82367.9844 - val_loss: 9626680832.0000 - val_mean_absolute_error: 71711.4609\n",
      "Epoch 30/300\n",
      "1300/1300 [==============================] - 0s 13us/sample - loss: 9578010151.3846 - mean_absolute_error: 65898.2031 - val_loss: 7539042048.0000 - val_mean_absolute_error: 61273.2266\n",
      "Epoch 31/300\n",
      "1300/1300 [==============================] - 0s 14us/sample - loss: 8007785724.0615 - mean_absolute_error: 58573.0586 - val_loss: 6502967552.0000 - val_mean_absolute_error: 57893.6133\n",
      "Epoch 32/300\n",
      "1300/1300 [==============================] - 0s 13us/sample - loss: 7213113556.6769 - mean_absolute_error: 56146.8359 - val_loss: 5981050368.0000 - val_mean_absolute_error: 56978.0742\n",
      "Epoch 33/300\n",
      "1300/1300 [==============================] - 0s 13us/sample - loss: 6820863275.3231 - mean_absolute_error: 55480.5039 - val_loss: 5729218304.0000 - val_mean_absolute_error: 56930.7500\n",
      "Epoch 34/300\n",
      "1300/1300 [==============================] - 0s 13us/sample - loss: 6624716469.1692 - mean_absolute_error: 55479.3281 - val_loss: 5584611072.0000 - val_mean_absolute_error: 57088.6484\n",
      "Epoch 35/300\n",
      "1300/1300 [==============================] - 0s 13us/sample - loss: 6511595779.9385 - mean_absolute_error: 55672.3867 - val_loss: 5519549312.0000 - val_mean_absolute_error: 57325.3984\n",
      "Epoch 36/300\n",
      "1300/1300 [==============================] - 0s 14us/sample - loss: 6461261981.5385 - mean_absolute_error: 56119.5625 - val_loss: 5491031552.0000 - val_mean_absolute_error: 57510.2578\n",
      "Epoch 37/300\n",
      "1300/1300 [==============================] - 0s 14us/sample - loss: 6437574104.6154 - mean_absolute_error: 56391.2305 - val_loss: 5469645824.0000 - val_mean_absolute_error: 57854.0625\n",
      "Epoch 38/300\n",
      "1300/1300 [==============================] - 0s 13us/sample - loss: 6418901649.7231 - mean_absolute_error: 56773.8047 - val_loss: 5466622208.0000 - val_mean_absolute_error: 57970.3633\n",
      "Epoch 39/300\n",
      "1300/1300 [==============================] - 0s 14us/sample - loss: 6416442698.8308 - mean_absolute_error: 56842.0547 - val_loss: 5464444928.0000 - val_mean_absolute_error: 58104.5703\n",
      "Epoch 40/300\n",
      "1300/1300 [==============================] - 0s 14us/sample - loss: 6413544755.2000 - mean_absolute_error: 56999.7109 - val_loss: 5463895808.0000 - val_mean_absolute_error: 58169.6367\n",
      "Epoch 41/300\n",
      "1300/1300 [==============================] - 0s 15us/sample - loss: 6413290169.1077 - mean_absolute_error: 57100.6953 - val_loss: 5463868672.0000 - val_mean_absolute_error: 58174.0508\n",
      "Epoch 42/300\n",
      "1300/1300 [==============================] - 0s 13us/sample - loss: 6412295711.5077 - mean_absolute_error: 57111.1016 - val_loss: 5463716096.0000 - val_mean_absolute_error: 58204.3516\n",
      "Epoch 43/300\n",
      "1300/1300 [==============================] - 0s 13us/sample - loss: 6412031039.0154 - mean_absolute_error: 57152.2148 - val_loss: 5463544576.0000 - val_mean_absolute_error: 58285.5703\n",
      "Epoch 44/300\n",
      "1300/1300 [==============================] - 0s 16us/sample - loss: 6411754228.1846 - mean_absolute_error: 57204.5781 - val_loss: 5463902976.0000 - val_mean_absolute_error: 58407.1250\n",
      "Epoch 45/300\n",
      "1300/1300 [==============================] - 0s 13us/sample - loss: 6411553035.8154 - mean_absolute_error: 57316.7461 - val_loss: 5464159488.0000 - val_mean_absolute_error: 58444.1641\n",
      "Epoch 46/300\n",
      "1300/1300 [==============================] - 0s 13us/sample - loss: 6412252727.1385 - mean_absolute_error: 57354.5547 - val_loss: 5465509888.0000 - val_mean_absolute_error: 58567.6641\n",
      "Epoch 47/300\n",
      "1300/1300 [==============================] - 0s 14us/sample - loss: 6412379057.2308 - mean_absolute_error: 57585.6797 - val_loss: 5464850176.0000 - val_mean_absolute_error: 58515.8516\n",
      "Epoch 48/300\n",
      "1300/1300 [==============================] - 0s 13us/sample - loss: 6412477077.6615 - mean_absolute_error: 57368.7500 - val_loss: 5466040320.0000 - val_mean_absolute_error: 58603.2578\n",
      "Epoch 49/300\n",
      "1300/1300 [==============================] - 0s 13us/sample - loss: 6413134495.5077 - mean_absolute_error: 57560.1602 - val_loss: 5464951040.0000 - val_mean_absolute_error: 58524.5195\n",
      "Epoch 50/300\n",
      "1300/1300 [==============================] - 0s 15us/sample - loss: 6411525478.4000 - mean_absolute_error: 57438.0430 - val_loss: 5464429824.0000 - val_mean_absolute_error: 58475.5195\n",
      "Epoch 51/300\n",
      "1300/1300 [==============================] - 0s 13us/sample - loss: 6411245914.5846 - mean_absolute_error: 57398.8203 - val_loss: 5465002496.0000 - val_mean_absolute_error: 58528.7812\n",
      "Epoch 52/300\n",
      "1300/1300 [==============================] - 0s 13us/sample - loss: 6412308042.8308 - mean_absolute_error: 57530.9219 - val_loss: 5464119296.0000 - val_mean_absolute_error: 58438.9492\n",
      "Epoch 53/300\n",
      "1300/1300 [==============================] - 0s 13us/sample - loss: 6411354718.5231 - mean_absolute_error: 57436.0195 - val_loss: 5464029440.0000 - val_mean_absolute_error: 58426.6172\n",
      "Epoch 54/300\n",
      "1300/1300 [==============================] - 0s 13us/sample - loss: 6411231035.0769 - mean_absolute_error: 57403.1680 - val_loss: 5463659776.0000 - val_mean_absolute_error: 58355.2891\n",
      "Epoch 55/300\n",
      "1300/1300 [==============================] - 0s 15us/sample - loss: 6412279051.8154 - mean_absolute_error: 57350.3867 - val_loss: 5463586048.0000 - val_mean_absolute_error: 58328.0508\n",
      "Epoch 56/300\n",
      "1300/1300 [==============================] - 0s 14us/sample - loss: 6411272790.6462 - mean_absolute_error: 57264.9609 - val_loss: 5463573504.0000 - val_mean_absolute_error: 58321.4062\n",
      "Epoch 57/300\n",
      "1300/1300 [==============================] - 0s 14us/sample - loss: 6411763333.9077 - mean_absolute_error: 57165.9570 - val_loss: 5465467392.0000 - val_mean_absolute_error: 58564.6445\n",
      "Epoch 58/300\n",
      "1300/1300 [==============================] - 0s 13us/sample - loss: 6412526229.6615 - mean_absolute_error: 57600.6602 - val_loss: 5465557504.0000 - val_mean_absolute_error: 58571.0703\n",
      "Epoch 59/300\n",
      "1300/1300 [==============================] - 0s 16us/sample - loss: 6412192957.0462 - mean_absolute_error: 57593.3906 - val_loss: 5464798464.0000 - val_mean_absolute_error: 58511.3008\n",
      "Epoch 60/300\n",
      "1300/1300 [==============================] - 0s 14us/sample - loss: 6412026423.1385 - mean_absolute_error: 57444.5547 - val_loss: 5465007616.0000 - val_mean_absolute_error: 58529.2109\n",
      "Epoch 61/300\n",
      "1300/1300 [==============================] - 0s 14us/sample - loss: 6411834273.4769 - mean_absolute_error: 57448.5234 - val_loss: 5465608192.0000 - val_mean_absolute_error: 58574.6250\n",
      "Epoch 62/300\n",
      "1300/1300 [==============================] - 0s 14us/sample - loss: 6411764728.1231 - mean_absolute_error: 57552.8750 - val_loss: 5465247232.0000 - val_mean_absolute_error: 58548.2812\n",
      "Epoch 63/300\n",
      "1300/1300 [==============================] - 0s 17us/sample - loss: 6413102080.0000 - mean_absolute_error: 57560.5859 - val_loss: 5465108736.0000 - val_mean_absolute_error: 58537.4492\n",
      "Epoch 64/300\n",
      "1300/1300 [==============================] - 0s 14us/sample - loss: 6412986320.7385 - mean_absolute_error: 57479.3477 - val_loss: 5465291520.0000 - val_mean_absolute_error: 58551.6328\n",
      "Epoch 65/300\n",
      "1300/1300 [==============================] - 0s 13us/sample - loss: 6412803749.4154 - mean_absolute_error: 57514.7266 - val_loss: 5464436480.0000 - val_mean_absolute_error: 58476.2109\n",
      "Epoch 66/300\n",
      "1300/1300 [==============================] - 0s 14us/sample - loss: 6411916240.7385 - mean_absolute_error: 57392.4141 - val_loss: 5464730368.0000 - val_mean_absolute_error: 58505.1133\n",
      "Epoch 67/300\n",
      "1300/1300 [==============================] - 0s 15us/sample - loss: 6411811351.6308 - mean_absolute_error: 57423.2383 - val_loss: 5464309248.0000 - val_mean_absolute_error: 58462.1797\n",
      "Epoch 68/300\n",
      "1300/1300 [==============================] - 0s 15us/sample - loss: 6411135212.3077 - mean_absolute_error: 57347.4102 - val_loss: 5465152256.0000 - val_mean_absolute_error: 58540.8867\n",
      "Epoch 69/300\n",
      "1300/1300 [==============================] - 0s 14us/sample - loss: 6411870617.6000 - mean_absolute_error: 57477.9883 - val_loss: 5467372800.0000 - val_mean_absolute_error: 58678.6016\n",
      "Epoch 70/300\n",
      "1300/1300 [==============================] - 0s 16us/sample - loss: 6414060575.5077 - mean_absolute_error: 57628.3320 - val_loss: 5467540224.0000 - val_mean_absolute_error: 58687.0859\n",
      "Epoch 71/300\n",
      "1300/1300 [==============================] - 0s 14us/sample - loss: 6413318348.8000 - mean_absolute_error: 57606.8008 - val_loss: 5469012736.0000 - val_mean_absolute_error: 58754.9805\n",
      "Epoch 72/300\n",
      "1300/1300 [==============================] - 0s 14us/sample - loss: 6413494208.9846 - mean_absolute_error: 57733.1797 - val_loss: 5467963136.0000 - val_mean_absolute_error: 58707.7109\n",
      "Epoch 73/300\n",
      "1300/1300 [==============================] - 0s 14us/sample - loss: 6413189545.3538 - mean_absolute_error: 57703.6016 - val_loss: 5468064512.0000 - val_mean_absolute_error: 58712.5078\n",
      "Epoch 74/300\n",
      "1300/1300 [==============================] - 0s 13us/sample - loss: 6412965517.7846 - mean_absolute_error: 57658.6758 - val_loss: 5465959168.0000 - val_mean_absolute_error: 58598.0859\n",
      "Epoch 75/300\n",
      "1300/1300 [==============================] - 0s 13us/sample - loss: 6412233940.6769 - mean_absolute_error: 57597.0898 - val_loss: 5464186880.0000 - val_mean_absolute_error: 58447.6484\n",
      "Epoch 76/300\n",
      "1300/1300 [==============================] - 0s 14us/sample - loss: 6412628125.5385 - mean_absolute_error: 57339.1680 - val_loss: 5464011776.0000 - val_mean_absolute_error: 58424.0234\n",
      "Epoch 77/300\n",
      "1300/1300 [==============================] - 0s 14us/sample - loss: 6411519480.1231 - mean_absolute_error: 57389.0898 - val_loss: 5463867136.0000 - val_mean_absolute_error: 58400.9492\n",
      "Epoch 78/300\n",
      "1300/1300 [==============================] - 0s 14us/sample - loss: 6411195029.6615 - mean_absolute_error: 57375.9141 - val_loss: 5464119296.0000 - val_mean_absolute_error: 58438.9688\n",
      "Epoch 79/300\n",
      "1300/1300 [==============================] - 0s 14us/sample - loss: 6412263234.9538 - mean_absolute_error: 57425.2812 - val_loss: 5463903744.0000 - val_mean_absolute_error: 58407.2188\n",
      "Epoch 80/300\n",
      "1300/1300 [==============================] - 0s 14us/sample - loss: 6411697222.8923 - mean_absolute_error: 57372.1836 - val_loss: 5463549440.0000 - val_mean_absolute_error: 58302.2109\n",
      "Epoch 81/300\n",
      "1300/1300 [==============================] - 0s 15us/sample - loss: 6411547490.4615 - mean_absolute_error: 57195.5156 - val_loss: 5463832320.0000 - val_mean_absolute_error: 58394.5859\n",
      "Epoch 82/300\n",
      "1300/1300 [==============================] - 0s 18us/sample - loss: 6412265251.4462 - mean_absolute_error: 57277.3789 - val_loss: 5463858688.0000 - val_mean_absolute_error: 58399.4688\n",
      "Epoch 83/300\n",
      "1300/1300 [==============================] - 0s 22us/sample - loss: 6412034945.9692 - mean_absolute_error: 57320.9531 - val_loss: 5464112640.0000 - val_mean_absolute_error: 58438.1016\n",
      "Epoch 84/300\n",
      "1300/1300 [==============================] - 0s 16us/sample - loss: 6412086650.0923 - mean_absolute_error: 57404.8789 - val_loss: 5464165632.0000 - val_mean_absolute_error: 58444.9609\n",
      "Epoch 85/300\n",
      "1300/1300 [==============================] - 0s 15us/sample - loss: 6411446971.0769 - mean_absolute_error: 57401.7031 - val_loss: 5463897856.0000 - val_mean_absolute_error: 58406.2812\n",
      "Epoch 86/300\n",
      "1300/1300 [==============================] - 0s 14us/sample - loss: 6412736171.3231 - mean_absolute_error: 57321.6797 - val_loss: 5463666176.0000 - val_mean_absolute_error: 58357.1797\n",
      "Epoch 87/300\n",
      "1300/1300 [==============================] - 0s 15us/sample - loss: 6412600887.1385 - mean_absolute_error: 57249.6484 - val_loss: 5464172544.0000 - val_mean_absolute_error: 58445.7891\n",
      "Epoch 88/300\n",
      "1300/1300 [==============================] - 0s 14us/sample - loss: 6412507892.1846 - mean_absolute_error: 57326.2578 - val_loss: 5464833280.0000 - val_mean_absolute_error: 58514.3828\n",
      "Epoch 89/300\n",
      "1300/1300 [==============================] - 0s 14us/sample - loss: 6411851626.3385 - mean_absolute_error: 57410.7031 - val_loss: 5465368832.0000 - val_mean_absolute_error: 58557.4492\n",
      "Epoch 90/300\n",
      "1300/1300 [==============================] - 0s 13us/sample - loss: 6412117114.0923 - mean_absolute_error: 57472.5664 - val_loss: 5464066816.0000 - val_mean_absolute_error: 58431.9180\n",
      "Epoch 91/300\n",
      "1300/1300 [==============================] - 0s 21us/sample - loss: 6412302800.7385 - mean_absolute_error: 57394.7734 - val_loss: 5463848448.0000 - val_mean_absolute_error: 58397.6133\n",
      "Epoch 92/300\n",
      "1300/1300 [==============================] - 0s 17us/sample - loss: 6412765656.6154 - mean_absolute_error: 57309.3828 - val_loss: 5463894784.0000 - val_mean_absolute_error: 58405.6875\n",
      "Epoch 93/300\n",
      "1300/1300 [==============================] - 0s 15us/sample - loss: 6411648645.9077 - mean_absolute_error: 57334.0625 - val_loss: 5463979008.0000 - val_mean_absolute_error: 58419.1875\n",
      "Epoch 94/300\n",
      "1300/1300 [==============================] - 0s 20us/sample - loss: 6411208944.2462 - mean_absolute_error: 57370.9531 - val_loss: 5463963136.0000 - val_mean_absolute_error: 58416.7891\n",
      "Epoch 95/300\n",
      "1300/1300 [==============================] - 0s 25us/sample - loss: 6411998050.4615 - mean_absolute_error: 57373.1562 - val_loss: 5463923968.0000 - val_mean_absolute_error: 58410.5391\n",
      "Epoch 96/300\n",
      "1300/1300 [==============================] - 0s 25us/sample - loss: 6412291690.3385 - mean_absolute_error: 57319.2617 - val_loss: 5463741696.0000 - val_mean_absolute_error: 58376.1953\n",
      "Epoch 97/300\n",
      "1300/1300 [==============================] - 0s 29us/sample - loss: 6413431634.7077 - mean_absolute_error: 57343.6680 - val_loss: 5463821056.0000 - val_mean_absolute_error: 58392.5078\n",
      "Epoch 98/300\n",
      "1300/1300 [==============================] - 0s 31us/sample - loss: 6412109335.6308 - mean_absolute_error: 57268.5898 - val_loss: 5464647680.0000 - val_mean_absolute_error: 58497.3750\n",
      "Epoch 99/300\n",
      "1300/1300 [==============================] - 0s 28us/sample - loss: 6412255031.1385 - mean_absolute_error: 57417.1953 - val_loss: 5464177920.0000 - val_mean_absolute_error: 58446.4766\n",
      "Epoch 100/300\n",
      "1300/1300 [==============================] - 0s 30us/sample - loss: 6411879431.8769 - mean_absolute_error: 57383.3047 - val_loss: 5464514048.0000 - val_mean_absolute_error: 58484.2383\n",
      "Epoch 101/300\n",
      "1300/1300 [==============================] - 0s 29us/sample - loss: 6413032203.8154 - mean_absolute_error: 57543.4727 - val_loss: 5464430080.0000 - val_mean_absolute_error: 58475.5312\n",
      "Epoch 102/300\n",
      "1300/1300 [==============================] - 0s 25us/sample - loss: 6411508436.6769 - mean_absolute_error: 57399.5820 - val_loss: 5464602368.0000 - val_mean_absolute_error: 58493.0234\n",
      "Epoch 103/300\n",
      "1300/1300 [==============================] - 0s 25us/sample - loss: 6412210333.5385 - mean_absolute_error: 57465.8203 - val_loss: 5463823104.0000 - val_mean_absolute_error: 58392.9062\n",
      "Epoch 104/300\n",
      "1300/1300 [==============================] - 0s 22us/sample - loss: 6411736237.2923 - mean_absolute_error: 57346.0977 - val_loss: 5464616192.0000 - val_mean_absolute_error: 58494.3516\n",
      "Epoch 105/300\n",
      "1300/1300 [==============================] - 0s 24us/sample - loss: 6412407792.2462 - mean_absolute_error: 57423.0469 - val_loss: 5464821760.0000 - val_mean_absolute_error: 58513.3320\n",
      "Epoch 106/300\n",
      "1300/1300 [==============================] - 0s 23us/sample - loss: 6411735496.8615 - mean_absolute_error: 57429.0469 - val_loss: 5464134912.0000 - val_mean_absolute_error: 58441.0234\n",
      "Epoch 107/300\n",
      "1300/1300 [==============================] - 0s 24us/sample - loss: 6412018420.1846 - mean_absolute_error: 57367.2188 - val_loss: 5464041856.0000 - val_mean_absolute_error: 58428.3750\n",
      "Epoch 108/300\n",
      "1300/1300 [==============================] - 0s 19us/sample - loss: 6412097551.7538 - mean_absolute_error: 57359.0586 - val_loss: 5463799808.0000 - val_mean_absolute_error: 58388.4492\n",
      "Epoch 109/300\n",
      "1300/1300 [==============================] - 0s 25us/sample - loss: 6411446405.9077 - mean_absolute_error: 57339.4219 - val_loss: 5463693312.0000 - val_mean_absolute_error: 58364.5234\n",
      "Epoch 110/300\n",
      "1300/1300 [==============================] - 0s 24us/sample - loss: 6411702287.7538 - mean_absolute_error: 57322.5898 - val_loss: 5464286976.0000 - val_mean_absolute_error: 58459.6641\n",
      "Epoch 111/300\n",
      "1300/1300 [==============================] - 0s 22us/sample - loss: 6411324731.0769 - mean_absolute_error: 57357.4727 - val_loss: 5464226816.0000 - val_mean_absolute_error: 58452.5000\n",
      "Epoch 112/300\n",
      "1300/1300 [==============================] - 0s 16us/sample - loss: 6411564047.7538 - mean_absolute_error: 57344.4297 - val_loss: 5464965120.0000 - val_mean_absolute_error: 58525.6875\n",
      "Epoch 113/300\n",
      "1300/1300 [==============================] - 0s 25us/sample - loss: 6411884039.8769 - mean_absolute_error: 57489.7891 - val_loss: 5464313856.0000 - val_mean_absolute_error: 58462.7500\n",
      "Epoch 114/300\n",
      "1300/1300 [==============================] - 0s 24us/sample - loss: 6411910396.0615 - mean_absolute_error: 57420.1680 - val_loss: 5463757056.0000 - val_mean_absolute_error: 58379.5859\n",
      "Epoch 115/300\n",
      "1300/1300 [==============================] - 0s 21us/sample - loss: 6411774920.8615 - mean_absolute_error: 57400.3438 - val_loss: 5463570432.0000 - val_mean_absolute_error: 58319.6797\n",
      "Epoch 116/300\n",
      "1300/1300 [==============================] - 0s 22us/sample - loss: 6411994462.5231 - mean_absolute_error: 57254.8242 - val_loss: 5463619712.0000 - val_mean_absolute_error: 58342.2617\n",
      "Epoch 117/300\n",
      "1300/1300 [==============================] - 0s 23us/sample - loss: 6411222205.0462 - mean_absolute_error: 57263.1016 - val_loss: 5463604480.0000 - val_mean_absolute_error: 58336.3828\n",
      "Epoch 118/300\n",
      "1300/1300 [==============================] - 0s 19us/sample - loss: 6411679168.9846 - mean_absolute_error: 57232.9961 - val_loss: 5463568128.0000 - val_mean_absolute_error: 58318.0508\n",
      "Epoch 119/300\n",
      "1300/1300 [==============================] - 0s 19us/sample - loss: 6411271861.1692 - mean_absolute_error: 57257.8281 - val_loss: 5464038656.0000 - val_mean_absolute_error: 58427.9375\n",
      "Epoch 120/300\n",
      "1300/1300 [==============================] - 0s 17us/sample - loss: 6412986958.7692 - mean_absolute_error: 57397.4727 - val_loss: 5463753472.0000 - val_mean_absolute_error: 58378.8242\n",
      "Epoch 121/300\n",
      "1300/1300 [==============================] - 0s 24us/sample - loss: 6411679050.8308 - mean_absolute_error: 57280.3516 - val_loss: 5464124160.0000 - val_mean_absolute_error: 58439.5859\n",
      "Epoch 122/300\n",
      "1300/1300 [==============================] - 0s 19us/sample - loss: 6412088099.4462 - mean_absolute_error: 57384.1094 - val_loss: 5463707136.0000 - val_mean_absolute_error: 58368.0859\n",
      "Epoch 123/300\n",
      "1300/1300 [==============================] - 0s 22us/sample - loss: 6411491083.8154 - mean_absolute_error: 57263.7188 - val_loss: 5464018688.0000 - val_mean_absolute_error: 58425.0430\n",
      "Epoch 124/300\n",
      "1300/1300 [==============================] - 0s 22us/sample - loss: 6412049482.8308 - mean_absolute_error: 57417.0078 - val_loss: 5463565824.0000 - val_mean_absolute_error: 58316.6055\n",
      "Epoch 125/300\n",
      "1300/1300 [==============================] - 0s 19us/sample - loss: 6411925133.7846 - mean_absolute_error: 57152.3555 - val_loss: 5463742976.0000 - val_mean_absolute_error: 58376.4375\n",
      "Epoch 126/300\n",
      "1300/1300 [==============================] - 0s 24us/sample - loss: 6411678720.0000 - mean_absolute_error: 57403.1875 - val_loss: 5463601920.0000 - val_mean_absolute_error: 58335.5312\n",
      "Epoch 127/300\n",
      "1300/1300 [==============================] - 0s 21us/sample - loss: 6411956672.9846 - mean_absolute_error: 57296.5781 - val_loss: 5463585024.0000 - val_mean_absolute_error: 58327.6875\n",
      "Epoch 128/300\n",
      "1300/1300 [==============================] - 0s 22us/sample - loss: 6411623534.2769 - mean_absolute_error: 57327.8320 - val_loss: 5463790336.0000 - val_mean_absolute_error: 58386.5391\n",
      "Epoch 129/300\n",
      "1300/1300 [==============================] - 0s 23us/sample - loss: 6412252152.1231 - mean_absolute_error: 57384.6172 - val_loss: 5463720704.0000 - val_mean_absolute_error: 58371.3555\n",
      "Epoch 130/300\n",
      "1300/1300 [==============================] - 0s 20us/sample - loss: 6411999326.5231 - mean_absolute_error: 57271.9570 - val_loss: 5463950336.0000 - val_mean_absolute_error: 58414.7812\n",
      "Epoch 131/300\n",
      "1300/1300 [==============================] - 0s 24us/sample - loss: 6412276227.9385 - mean_absolute_error: 57408.1836 - val_loss: 5463669760.0000 - val_mean_absolute_error: 58358.0820\n",
      "Epoch 132/300\n",
      "1300/1300 [==============================] - 0s 26us/sample - loss: 6412574727.8769 - mean_absolute_error: 57272.1172 - val_loss: 5463918080.0000 - val_mean_absolute_error: 58409.6016\n",
      "Epoch 133/300\n",
      "1300/1300 [==============================] - 0s 24us/sample - loss: 6411354560.9846 - mean_absolute_error: 57297.6289 - val_loss: 5464261888.0000 - val_mean_absolute_error: 58456.7383\n",
      "Epoch 134/300\n",
      "1300/1300 [==============================] - 0s 28us/sample - loss: 6411302124.3077 - mean_absolute_error: 57417.6289 - val_loss: 5463707648.0000 - val_mean_absolute_error: 58368.2383\n",
      "Epoch 135/300\n",
      "1300/1300 [==============================] - 0s 29us/sample - loss: 6411694166.6462 - mean_absolute_error: 57314.8750 - val_loss: 5463873536.0000 - val_mean_absolute_error: 58402.0703\n",
      "Epoch 136/300\n",
      "1300/1300 [==============================] - 0s 21us/sample - loss: 6412208632.1231 - mean_absolute_error: 57265.2734 - val_loss: 5464578176.0000 - val_mean_absolute_error: 58490.6562\n",
      "Epoch 137/300\n",
      "1300/1300 [==============================] - 0s 25us/sample - loss: 6411865852.0615 - mean_absolute_error: 57467.3164 - val_loss: 5464439552.0000 - val_mean_absolute_error: 58476.5391\n",
      "Epoch 138/300\n",
      "1300/1300 [==============================] - 0s 18us/sample - loss: 6412523953.2308 - mean_absolute_error: 57324.2969 - val_loss: 5464882944.0000 - val_mean_absolute_error: 58518.6875\n",
      "Epoch 139/300\n",
      "1300/1300 [==============================] - 0s 23us/sample - loss: 6411961848.1231 - mean_absolute_error: 57518.8984 - val_loss: 5464536576.0000 - val_mean_absolute_error: 58486.4883\n",
      "Epoch 140/300\n",
      "1300/1300 [==============================] - 0s 23us/sample - loss: 6411855194.5846 - mean_absolute_error: 57413.5312 - val_loss: 5464455168.0000 - val_mean_absolute_error: 58478.1992\n",
      "Epoch 141/300\n",
      "1300/1300 [==============================] - 0s 22us/sample - loss: 6411793124.4308 - mean_absolute_error: 57361.6992 - val_loss: 5464791040.0000 - val_mean_absolute_error: 58510.6250\n",
      "Epoch 142/300\n",
      "1300/1300 [==============================] - 0s 20us/sample - loss: 6411348716.3077 - mean_absolute_error: 57492.7188 - val_loss: 5463840000.0000 - val_mean_absolute_error: 58396.1484\n",
      "Epoch 143/300\n",
      "1300/1300 [==============================] - 0s 20us/sample - loss: 6411665557.6615 - mean_absolute_error: 57331.1953 - val_loss: 5463714048.0000 - val_mean_absolute_error: 58369.7070\n",
      "Epoch 144/300\n",
      "1300/1300 [==============================] - 0s 22us/sample - loss: 6411690342.4000 - mean_absolute_error: 57344.6406 - val_loss: 5463703552.0000 - val_mean_absolute_error: 58367.1758\n",
      "Epoch 145/300\n",
      "1300/1300 [==============================] - 0s 18us/sample - loss: 6411520039.3846 - mean_absolute_error: 57261.6055 - val_loss: 5463679744.0000 - val_mean_absolute_error: 58360.9297\n",
      "Epoch 146/300\n",
      "1300/1300 [==============================] - 0s 27us/sample - loss: 6412457275.0769 - mean_absolute_error: 57294.3086 - val_loss: 5463643136.0000 - val_mean_absolute_error: 58350.2109\n",
      "Epoch 147/300\n",
      "1300/1300 [==============================] - 0s 34us/sample - loss: 6412849278.0308 - mean_absolute_error: 57199.7305 - val_loss: 5465065216.0000 - val_mean_absolute_error: 58533.9375\n",
      "Epoch 148/300\n",
      "1300/1300 [==============================] - 0s 25us/sample - loss: 6412203917.7846 - mean_absolute_error: 57463.4883 - val_loss: 5463855616.0000 - val_mean_absolute_error: 58398.8359\n",
      "Epoch 149/300\n",
      "1300/1300 [==============================] - 0s 19us/sample - loss: 6412008148.6769 - mean_absolute_error: 57345.8594 - val_loss: 5463781376.0000 - val_mean_absolute_error: 58384.7266\n",
      "Epoch 150/300\n",
      "1300/1300 [==============================] - 0s 18us/sample - loss: 6411846829.2923 - mean_absolute_error: 57302.0078 - val_loss: 5464040960.0000 - val_mean_absolute_error: 58428.2617\n",
      "Epoch 151/300\n",
      "1300/1300 [==============================] - 0s 17us/sample - loss: 6411937319.3846 - mean_absolute_error: 57433.1680 - val_loss: 5463635712.0000 - val_mean_absolute_error: 58347.7812\n",
      "Epoch 152/300\n",
      "1300/1300 [==============================] - 0s 17us/sample - loss: 6412228032.9846 - mean_absolute_error: 57235.1016 - val_loss: 5463883264.0000 - val_mean_absolute_error: 58403.7617\n",
      "Epoch 153/300\n",
      "1300/1300 [==============================] - 0s 24us/sample - loss: 6411533532.5538 - mean_absolute_error: 57328.0312 - val_loss: 5463933952.0000 - val_mean_absolute_error: 58412.2070\n",
      "Epoch 154/300\n",
      "1300/1300 [==============================] - 0s 18us/sample - loss: 6411618800.2462 - mean_absolute_error: 57335.0586 - val_loss: 5464623616.0000 - val_mean_absolute_error: 58495.1016\n",
      "Epoch 155/300\n",
      "1300/1300 [==============================] - 0s 19us/sample - loss: 6411482899.6923 - mean_absolute_error: 57451.2539 - val_loss: 5464523264.0000 - val_mean_absolute_error: 58485.1758\n",
      "Epoch 156/300\n",
      "1300/1300 [==============================] - 0s 16us/sample - loss: 6412269686.1538 - mean_absolute_error: 57392.1406 - val_loss: 5464365568.0000 - val_mean_absolute_error: 58468.5625\n",
      "Epoch 157/300\n",
      "1300/1300 [==============================] - 0s 23us/sample - loss: 6412166002.2154 - mean_absolute_error: 57400.6523 - val_loss: 5464751104.0000 - val_mean_absolute_error: 58507.0117\n",
      "Epoch 158/300\n",
      "1300/1300 [==============================] - 0s 23us/sample - loss: 6412805025.4769 - mean_absolute_error: 57423.3359 - val_loss: 5464319360.0000 - val_mean_absolute_error: 58463.3516\n",
      "Epoch 159/300\n",
      "1300/1300 [==============================] - 0s 19us/sample - loss: 6412418756.9231 - mean_absolute_error: 57434.9766 - val_loss: 5464096000.0000 - val_mean_absolute_error: 58435.8750\n",
      "Epoch 160/300\n",
      "1300/1300 [==============================] - 0s 21us/sample - loss: 6411355151.7538 - mean_absolute_error: 57415.9062 - val_loss: 5463961600.0000 - val_mean_absolute_error: 58416.4492\n",
      "Epoch 161/300\n",
      "1300/1300 [==============================] - 0s 22us/sample - loss: 6411848893.0462 - mean_absolute_error: 57291.9023 - val_loss: 5464409600.0000 - val_mean_absolute_error: 58473.3320\n",
      "Epoch 162/300\n",
      "1300/1300 [==============================] - 0s 23us/sample - loss: 6412980531.2000 - mean_absolute_error: 57366.3984 - val_loss: 5464314624.0000 - val_mean_absolute_error: 58462.8047\n",
      "Epoch 163/300\n",
      "1300/1300 [==============================] - 0s 24us/sample - loss: 6411935066.5846 - mean_absolute_error: 57375.3359 - val_loss: 5464813824.0000 - val_mean_absolute_error: 58512.6562\n",
      "Epoch 164/300\n",
      "1300/1300 [==============================] - 0s 20us/sample - loss: 6412098457.6000 - mean_absolute_error: 57510.2773 - val_loss: 5464043776.0000 - val_mean_absolute_error: 58428.7070\n",
      "Epoch 165/300\n",
      "1300/1300 [==============================] - 0s 21us/sample - loss: 6412761859.9385 - mean_absolute_error: 57374.0234 - val_loss: 5464330752.0000 - val_mean_absolute_error: 58464.6484\n",
      "Epoch 166/300\n",
      "1300/1300 [==============================] - 0s 21us/sample - loss: 6412206119.3846 - mean_absolute_error: 57459.4727 - val_loss: 5464093184.0000 - val_mean_absolute_error: 58435.4766\n",
      "Epoch 167/300\n",
      "1300/1300 [==============================] - 0s 23us/sample - loss: 6411772679.8769 - mean_absolute_error: 57393.4844 - val_loss: 5463754752.0000 - val_mean_absolute_error: 58379.0430\n",
      "Epoch 168/300\n",
      "1300/1300 [==============================] - 0s 20us/sample - loss: 6411536183.1385 - mean_absolute_error: 57292.8750 - val_loss: 5463807488.0000 - val_mean_absolute_error: 58389.9180\n",
      "Epoch 169/300\n",
      "1300/1300 [==============================] - 0s 25us/sample - loss: 6412727284.1846 - mean_absolute_error: 57316.6172 - val_loss: 5463750144.0000 - val_mean_absolute_error: 58378.0625\n",
      "Epoch 170/300\n",
      "1300/1300 [==============================] - 0s 26us/sample - loss: 6413096211.6923 - mean_absolute_error: 57428.8555 - val_loss: 5463637760.0000 - val_mean_absolute_error: 58226.1641\n",
      "Epoch 171/300\n",
      "1300/1300 [==============================] - 0s 26us/sample - loss: 6411861905.7231 - mean_absolute_error: 57162.6406 - val_loss: 5463545600.0000 - val_mean_absolute_error: 58280.7070\n",
      "Epoch 172/300\n",
      "1300/1300 [==============================] - 0s 22us/sample - loss: 6412330204.5538 - mean_absolute_error: 57258.1250 - val_loss: 5463934720.0000 - val_mean_absolute_error: 58412.2891\n",
      "Epoch 173/300\n",
      "1300/1300 [==============================] - 0s 24us/sample - loss: 6411365801.3538 - mean_absolute_error: 57387.0156 - val_loss: 5464047616.0000 - val_mean_absolute_error: 58429.1875\n",
      "Epoch 174/300\n",
      "1300/1300 [==============================] - 0s 18us/sample - loss: 6412212090.0923 - mean_absolute_error: 57353.3594 - val_loss: 5464065792.0000 - val_mean_absolute_error: 58431.7383\n",
      "Epoch 175/300\n",
      "1300/1300 [==============================] - 0s 20us/sample - loss: 6411740928.0000 - mean_absolute_error: 57459.2695 - val_loss: 5463555072.0000 - val_mean_absolute_error: 58308.3438\n",
      "Epoch 176/300\n",
      "1300/1300 [==============================] - 0s 24us/sample - loss: 6412103160.1231 - mean_absolute_error: 57304.8789 - val_loss: 5463623168.0000 - val_mean_absolute_error: 58343.6016\n",
      "Epoch 177/300\n",
      "1300/1300 [==============================] - 0s 22us/sample - loss: 6412007770.5846 - mean_absolute_error: 57126.8242 - val_loss: 5464465920.0000 - val_mean_absolute_error: 58479.2891\n",
      "Epoch 178/300\n",
      "1300/1300 [==============================] - 0s 20us/sample - loss: 6411424122.0923 - mean_absolute_error: 57410.0977 - val_loss: 5465358592.0000 - val_mean_absolute_error: 58556.6758\n",
      "Epoch 179/300\n",
      "1300/1300 [==============================] - 0s 20us/sample - loss: 6411727399.3846 - mean_absolute_error: 57488.8203 - val_loss: 5465096960.0000 - val_mean_absolute_error: 58536.4688\n",
      "Epoch 180/300\n",
      "1300/1300 [==============================] - 0s 24us/sample - loss: 6412297483.8154 - mean_absolute_error: 57459.2734 - val_loss: 5464818944.0000 - val_mean_absolute_error: 58513.0625\n",
      "Epoch 181/300\n",
      "1300/1300 [==============================] - 0s 19us/sample - loss: 6411865702.4000 - mean_absolute_error: 57464.7070 - val_loss: 5464610560.0000 - val_mean_absolute_error: 58493.8359\n",
      "Epoch 182/300\n",
      "1300/1300 [==============================] - 0s 26us/sample - loss: 6412394401.4769 - mean_absolute_error: 57481.5430 - val_loss: 5464155392.0000 - val_mean_absolute_error: 58443.6250\n",
      "Epoch 183/300\n",
      "1300/1300 [==============================] - 0s 23us/sample - loss: 6411456937.3538 - mean_absolute_error: 57354.3555 - val_loss: 5464059392.0000 - val_mean_absolute_error: 58430.9062\n",
      "Epoch 184/300\n",
      "1300/1300 [==============================] - 0s 18us/sample - loss: 6411569545.8462 - mean_absolute_error: 57400.9297 - val_loss: 5463640832.0000 - val_mean_absolute_error: 58349.5117\n",
      "Epoch 185/300\n",
      "1300/1300 [==============================] - 0s 19us/sample - loss: 6412319870.0308 - mean_absolute_error: 57240.5664 - val_loss: 5463995904.0000 - val_mean_absolute_error: 58421.6875\n",
      "Epoch 186/300\n",
      "1300/1300 [==============================] - 0s 24us/sample - loss: 6412109296.2462 - mean_absolute_error: 57280.9336 - val_loss: 5464398592.0000 - val_mean_absolute_error: 58472.1484\n",
      "Epoch 187/300\n",
      "1300/1300 [==============================] - 0s 21us/sample - loss: 6411754488.1231 - mean_absolute_error: 57331.2070 - val_loss: 5464180736.0000 - val_mean_absolute_error: 58446.8945\n",
      "Epoch 188/300\n",
      "1300/1300 [==============================] - 0s 20us/sample - loss: 6412404050.7077 - mean_absolute_error: 57354.6094 - val_loss: 5464274944.0000 - val_mean_absolute_error: 58458.2891\n",
      "Epoch 189/300\n",
      "1300/1300 [==============================] - 0s 17us/sample - loss: 6412431482.0923 - mean_absolute_error: 57451.6172 - val_loss: 5463681792.0000 - val_mean_absolute_error: 58361.5234\n",
      "Epoch 190/300\n",
      "1300/1300 [==============================] - 0s 21us/sample - loss: 6412800551.3846 - mean_absolute_error: 57343.9219 - val_loss: 5463728640.0000 - val_mean_absolute_error: 58373.1250\n",
      "Epoch 191/300\n",
      "1300/1300 [==============================] - 0s 20us/sample - loss: 6412977065.3538 - mean_absolute_error: 57284.4258 - val_loss: 5463748352.0000 - val_mean_absolute_error: 58377.6562\n",
      "Epoch 192/300\n",
      "1300/1300 [==============================] - 0s 20us/sample - loss: 6411278005.1692 - mean_absolute_error: 57352.8008 - val_loss: 5463767552.0000 - val_mean_absolute_error: 58381.8242\n",
      "Epoch 193/300\n",
      "1300/1300 [==============================] - 0s 20us/sample - loss: 6411913893.4154 - mean_absolute_error: 57326.4141 - val_loss: 5463988992.0000 - val_mean_absolute_error: 58420.6758\n",
      "Epoch 194/300\n",
      "1300/1300 [==============================] - 0s 21us/sample - loss: 6412573215.5077 - mean_absolute_error: 57335.7305 - val_loss: 5463615744.0000 - val_mean_absolute_error: 58340.6992\n",
      "Epoch 195/300\n",
      "1300/1300 [==============================] - 0s 22us/sample - loss: 6411245560.1231 - mean_absolute_error: 57306.7500 - val_loss: 5463547776.0000 - val_mean_absolute_error: 58299.8359\n",
      "Epoch 196/300\n",
      "1300/1300 [==============================] - 0s 21us/sample - loss: 6411938910.5231 - mean_absolute_error: 57235.2969 - val_loss: 5463940096.0000 - val_mean_absolute_error: 58413.1367\n",
      "Epoch 197/300\n",
      "1300/1300 [==============================] - 0s 19us/sample - loss: 6411746107.0769 - mean_absolute_error: 57343.5625 - val_loss: 5464205184.0000 - val_mean_absolute_error: 58449.8984\n",
      "Epoch 198/300\n",
      "1300/1300 [==============================] - 0s 20us/sample - loss: 6411545651.2000 - mean_absolute_error: 57393.0781 - val_loss: 5463901952.0000 - val_mean_absolute_error: 58406.9258\n",
      "Epoch 199/300\n",
      "1300/1300 [==============================] - 0s 19us/sample - loss: 6412118906.0923 - mean_absolute_error: 57320.9922 - val_loss: 5463553792.0000 - val_mean_absolute_error: 58306.7383\n",
      "Epoch 200/300\n",
      "1300/1300 [==============================] - 0s 20us/sample - loss: 6411186601.3538 - mean_absolute_error: 57232.5742 - val_loss: 5463641600.0000 - val_mean_absolute_error: 58349.7812\n",
      "Epoch 201/300\n",
      "1300/1300 [==============================] - 0s 23us/sample - loss: 6411944971.8154 - mean_absolute_error: 57295.3672 - val_loss: 5463564544.0000 - val_mean_absolute_error: 58315.7734\n",
      "Epoch 202/300\n",
      "1300/1300 [==============================] - 0s 23us/sample - loss: 6412290961.7231 - mean_absolute_error: 57199.0469 - val_loss: 5464317952.0000 - val_mean_absolute_error: 58463.2383\n",
      "Epoch 203/300\n",
      "1300/1300 [==============================] - 0s 22us/sample - loss: 6411968433.2308 - mean_absolute_error: 57404.9492 - val_loss: 5464030208.0000 - val_mean_absolute_error: 58426.7109\n",
      "Epoch 204/300\n",
      "1300/1300 [==============================] - 0s 19us/sample - loss: 6411386482.2154 - mean_absolute_error: 57280.8203 - val_loss: 5463807232.0000 - val_mean_absolute_error: 58389.8984\n",
      "Epoch 205/300\n",
      "1300/1300 [==============================] - 0s 21us/sample - loss: 6411880841.8462 - mean_absolute_error: 57293.5273 - val_loss: 5464080128.0000 - val_mean_absolute_error: 58433.7305\n",
      "Epoch 206/300\n",
      "1300/1300 [==============================] - 0s 22us/sample - loss: 6412479763.6923 - mean_absolute_error: 57308.8984 - val_loss: 5464247552.0000 - val_mean_absolute_error: 58455.0625\n",
      "Epoch 207/300\n",
      "1300/1300 [==============================] - 0s 19us/sample - loss: 6412168310.1538 - mean_absolute_error: 57426.6406 - val_loss: 5463996416.0000 - val_mean_absolute_error: 58421.7812\n",
      "Epoch 208/300\n",
      "1300/1300 [==============================] - 0s 23us/sample - loss: 6411289938.7077 - mean_absolute_error: 57374.6211 - val_loss: 5463595008.0000 - val_mean_absolute_error: 58332.2500\n",
      "Epoch 209/300\n",
      "1300/1300 [==============================] - 0s 22us/sample - loss: 6411747438.2769 - mean_absolute_error: 57333.2852 - val_loss: 5463746560.0000 - val_mean_absolute_error: 58377.2812\n",
      "Epoch 210/300\n",
      "1300/1300 [==============================] - 0s 18us/sample - loss: 6412446231.6308 - mean_absolute_error: 57334.3125 - val_loss: 5464299264.0000 - val_mean_absolute_error: 58461.0859\n",
      "Epoch 211/300\n",
      "1300/1300 [==============================] - 0s 22us/sample - loss: 6411814100.6769 - mean_absolute_error: 57424.7617 - val_loss: 5464223232.0000 - val_mean_absolute_error: 58452.1016\n",
      "Epoch 212/300\n",
      "1300/1300 [==============================] - 0s 21us/sample - loss: 6412465033.8462 - mean_absolute_error: 57392.1055 - val_loss: 5464087296.0000 - val_mean_absolute_error: 58434.6680\n",
      "Epoch 213/300\n",
      "1300/1300 [==============================] - 0s 24us/sample - loss: 6411404819.6923 - mean_absolute_error: 57436.8555 - val_loss: 5463742976.0000 - val_mean_absolute_error: 58376.5117\n",
      "Epoch 214/300\n",
      "1300/1300 [==============================] - 0s 19us/sample - loss: 6412294852.9231 - mean_absolute_error: 57292.8438 - val_loss: 5463917824.0000 - val_mean_absolute_error: 58409.5391\n",
      "Epoch 215/300\n",
      "1300/1300 [==============================] - 0s 23us/sample - loss: 6411859093.6615 - mean_absolute_error: 57323.6758 - val_loss: 5463817984.0000 - val_mean_absolute_error: 58391.9570\n",
      "Epoch 216/300\n",
      "1300/1300 [==============================] - 0s 22us/sample - loss: 6411980910.2769 - mean_absolute_error: 57365.1797 - val_loss: 5464112384.0000 - val_mean_absolute_error: 58438.0508\n",
      "Epoch 217/300\n",
      "1300/1300 [==============================] - 0s 22us/sample - loss: 6411452991.0154 - mean_absolute_error: 57428.8984 - val_loss: 5463626496.0000 - val_mean_absolute_error: 58344.6992\n",
      "Epoch 218/300\n",
      "1300/1300 [==============================] - 0s 21us/sample - loss: 6412435558.4000 - mean_absolute_error: 57251.4844 - val_loss: 5463800064.0000 - val_mean_absolute_error: 58388.4805\n",
      "Epoch 219/300\n",
      "1300/1300 [==============================] - 0s 21us/sample - loss: 6411739529.8462 - mean_absolute_error: 57241.7461 - val_loss: 5464367616.0000 - val_mean_absolute_error: 58468.7734\n",
      "Epoch 220/300\n",
      "1300/1300 [==============================] - 0s 23us/sample - loss: 6412314171.0769 - mean_absolute_error: 57421.7773 - val_loss: 5463751680.0000 - val_mean_absolute_error: 58378.3633\n",
      "Epoch 221/300\n",
      "1300/1300 [==============================] - 0s 22us/sample - loss: 6411966952.3692 - mean_absolute_error: 57301.1328 - val_loss: 5464067584.0000 - val_mean_absolute_error: 58432.0000\n",
      "Epoch 222/300\n",
      "1300/1300 [==============================] - 0s 27us/sample - loss: 6411039736.1231 - mean_absolute_error: 57364.1484 - val_loss: 5463810048.0000 - val_mean_absolute_error: 58390.4375\n",
      "Epoch 223/300\n",
      "1300/1300 [==============================] - 0s 20us/sample - loss: 6411423405.2923 - mean_absolute_error: 57333.3477 - val_loss: 5463936256.0000 - val_mean_absolute_error: 58412.4805\n",
      "Epoch 224/300\n",
      "1300/1300 [==============================] - 0s 20us/sample - loss: 6411252192.4923 - mean_absolute_error: 57327.3398 - val_loss: 5463799040.0000 - val_mean_absolute_error: 58388.2188\n",
      "Epoch 225/300\n",
      "1300/1300 [==============================] - 0s 22us/sample - loss: 6411742853.9077 - mean_absolute_error: 57288.1680 - val_loss: 5463730944.0000 - val_mean_absolute_error: 58373.6484\n",
      "Epoch 226/300\n",
      "1300/1300 [==============================] - 0s 22us/sample - loss: 6411738962.7077 - mean_absolute_error: 57296.0664 - val_loss: 5463939456.0000 - val_mean_absolute_error: 58413.0000\n",
      "Epoch 227/300\n",
      "1300/1300 [==============================] - 0s 24us/sample - loss: 6411386746.0923 - mean_absolute_error: 57330.5977 - val_loss: 5463770112.0000 - val_mean_absolute_error: 58382.3828\n",
      "Epoch 228/300\n",
      "1300/1300 [==============================] - 0s 23us/sample - loss: 6411694954.3385 - mean_absolute_error: 57282.4688 - val_loss: 5463678464.0000 - val_mean_absolute_error: 58360.5820\n",
      "Epoch 229/300\n",
      "1300/1300 [==============================] - 0s 20us/sample - loss: 6411775653.4154 - mean_absolute_error: 57271.5156 - val_loss: 5463809536.0000 - val_mean_absolute_error: 58390.3125\n",
      "Epoch 230/300\n",
      "1300/1300 [==============================] - 0s 21us/sample - loss: 6411951324.5538 - mean_absolute_error: 57297.3477 - val_loss: 5463748608.0000 - val_mean_absolute_error: 58377.7305\n",
      "Epoch 231/300\n",
      "1300/1300 [==============================] - 0s 24us/sample - loss: 6411798811.5692 - mean_absolute_error: 57342.0781 - val_loss: 5463769600.0000 - val_mean_absolute_error: 58382.2617\n",
      "Epoch 232/300\n",
      "1300/1300 [==============================] - 0s 22us/sample - loss: 6411991654.4000 - mean_absolute_error: 57325.2930 - val_loss: 5463724032.0000 - val_mean_absolute_error: 58372.2070\n",
      "Epoch 233/300\n",
      "1300/1300 [==============================] - 0s 20us/sample - loss: 6411933948.0615 - mean_absolute_error: 57316.0352 - val_loss: 5463734784.0000 - val_mean_absolute_error: 58374.5938\n",
      "Epoch 234/300\n",
      "1300/1300 [==============================] - 0s 22us/sample - loss: 6412147964.0615 - mean_absolute_error: 57298.9180 - val_loss: 5464107008.0000 - val_mean_absolute_error: 58437.3750\n",
      "Epoch 235/300\n",
      "1300/1300 [==============================] - 0s 22us/sample - loss: 6412725933.2923 - mean_absolute_error: 57313.5625 - val_loss: 5463851008.0000 - val_mean_absolute_error: 58398.0820\n",
      "Epoch 236/300\n",
      "1300/1300 [==============================] - 0s 25us/sample - loss: 6412799464.3692 - mean_absolute_error: 57205.3398 - val_loss: 5466266368.0000 - val_mean_absolute_error: 58617.2578\n",
      "Epoch 237/300\n",
      "1300/1300 [==============================] - 0s 18us/sample - loss: 6413878311.3846 - mean_absolute_error: 57643.7734 - val_loss: 5466269696.0000 - val_mean_absolute_error: 58617.4766\n",
      "Epoch 238/300\n",
      "1300/1300 [==============================] - 0s 22us/sample - loss: 6413153319.3846 - mean_absolute_error: 57535.7734 - val_loss: 5465825024.0000 - val_mean_absolute_error: 58589.3516\n",
      "Epoch 239/300\n",
      "1300/1300 [==============================] - 0s 23us/sample - loss: 6412132485.9077 - mean_absolute_error: 57572.2969 - val_loss: 5465156352.0000 - val_mean_absolute_error: 58541.2305\n",
      "Epoch 240/300\n",
      "1300/1300 [==============================] - 0s 23us/sample - loss: 6412522818.9538 - mean_absolute_error: 57423.7188 - val_loss: 5464794880.0000 - val_mean_absolute_error: 58510.9570\n",
      "Epoch 241/300\n",
      "1300/1300 [==============================] - 0s 23us/sample - loss: 6411493557.1692 - mean_absolute_error: 57509.0664 - val_loss: 5464358144.0000 - val_mean_absolute_error: 58467.7305\n",
      "Epoch 242/300\n",
      "1300/1300 [==============================] - 0s 20us/sample - loss: 6412133147.5692 - mean_absolute_error: 57413.9922 - val_loss: 5463797760.0000 - val_mean_absolute_error: 58388.0508\n",
      "Epoch 243/300\n",
      "1300/1300 [==============================] - 0s 22us/sample - loss: 6411751148.3077 - mean_absolute_error: 57307.9023 - val_loss: 5463827456.0000 - val_mean_absolute_error: 58393.7812\n",
      "Epoch 244/300\n",
      "1300/1300 [==============================] - 0s 23us/sample - loss: 6412106909.5385 - mean_absolute_error: 57336.3828 - val_loss: 5464840704.0000 - val_mean_absolute_error: 58515.0391\n",
      "Epoch 245/300\n",
      "1300/1300 [==============================] - 0s 25us/sample - loss: 6412328833.9692 - mean_absolute_error: 57461.5625 - val_loss: 5464663552.0000 - val_mean_absolute_error: 58498.8516\n",
      "Epoch 246/300\n",
      "1300/1300 [==============================] - 0s 23us/sample - loss: 6412993689.6000 - mean_absolute_error: 57477.0039 - val_loss: 5463798144.0000 - val_mean_absolute_error: 58388.0547\n",
      "Epoch 247/300\n",
      "1300/1300 [==============================] - 0s 23us/sample - loss: 6412546331.5692 - mean_absolute_error: 57332.0234 - val_loss: 5463607552.0000 - val_mean_absolute_error: 58236.7734\n",
      "Epoch 248/300\n",
      "1300/1300 [==============================] - 0s 24us/sample - loss: 6412334127.2615 - mean_absolute_error: 57121.0938 - val_loss: 5463576320.0000 - val_mean_absolute_error: 58322.8867\n",
      "Epoch 249/300\n",
      "1300/1300 [==============================] - 0s 20us/sample - loss: 6413060966.4000 - mean_absolute_error: 57286.5039 - val_loss: 5463569920.0000 - val_mean_absolute_error: 58319.5742\n",
      "Epoch 250/300\n",
      "1300/1300 [==============================] - 0s 22us/sample - loss: 6411760356.4308 - mean_absolute_error: 57213.8281 - val_loss: 5463852544.0000 - val_mean_absolute_error: 58398.3242\n",
      "Epoch 251/300\n",
      "1300/1300 [==============================] - 0s 22us/sample - loss: 6412641981.0462 - mean_absolute_error: 57298.1602 - val_loss: 5464100864.0000 - val_mean_absolute_error: 58436.4883\n",
      "Epoch 252/300\n",
      "1300/1300 [==============================] - 0s 22us/sample - loss: 6411539322.0923 - mean_absolute_error: 57403.7656 - val_loss: 5463786496.0000 - val_mean_absolute_error: 58385.7109\n",
      "Epoch 253/300\n",
      "1300/1300 [==============================] - 0s 19us/sample - loss: 6412424893.0462 - mean_absolute_error: 57380.7188 - val_loss: 5463807488.0000 - val_mean_absolute_error: 58389.9766\n",
      "Epoch 254/300\n",
      "1300/1300 [==============================] - 0s 23us/sample - loss: 6411798705.2308 - mean_absolute_error: 57348.8320 - val_loss: 5463554304.0000 - val_mean_absolute_error: 58307.9492\n",
      "Epoch 255/300\n",
      "1300/1300 [==============================] - 0s 24us/sample - loss: 6412023674.0923 - mean_absolute_error: 57274.1055 - val_loss: 5463575808.0000 - val_mean_absolute_error: 58322.8242\n",
      "Epoch 256/300\n",
      "1300/1300 [==============================] - 0s 23us/sample - loss: 6412153789.0462 - mean_absolute_error: 57217.3164 - val_loss: 5463566336.0000 - val_mean_absolute_error: 58317.3008\n",
      "Epoch 257/300\n",
      "1300/1300 [==============================] - 0s 24us/sample - loss: 6412663288.1231 - mean_absolute_error: 57297.8047 - val_loss: 5463562752.0000 - val_mean_absolute_error: 58314.8242\n",
      "Epoch 258/300\n",
      "1300/1300 [==============================] - 0s 24us/sample - loss: 6412283360.4923 - mean_absolute_error: 57331.2617 - val_loss: 5463548928.0000 - val_mean_absolute_error: 58301.8008\n",
      "Epoch 259/300\n",
      "1300/1300 [==============================] - 0s 24us/sample - loss: 6411607890.7077 - mean_absolute_error: 57184.0508 - val_loss: 5463589632.0000 - val_mean_absolute_error: 58329.9375\n",
      "Epoch 260/300\n",
      "1300/1300 [==============================] - 0s 23us/sample - loss: 6413064444.0615 - mean_absolute_error: 57260.4375 - val_loss: 5463589632.0000 - val_mean_absolute_error: 58330.0312\n",
      "Epoch 261/300\n",
      "1300/1300 [==============================] - 0s 21us/sample - loss: 6412951292.0615 - mean_absolute_error: 57232.8672 - val_loss: 5463735296.0000 - val_mean_absolute_error: 58374.8008\n",
      "Epoch 262/300\n",
      "1300/1300 [==============================] - 0s 20us/sample - loss: 6412778393.6000 - mean_absolute_error: 57281.4219 - val_loss: 5464148736.0000 - val_mean_absolute_error: 58442.7695\n",
      "Epoch 263/300\n",
      "1300/1300 [==============================] - 0s 25us/sample - loss: 6413034417.2308 - mean_absolute_error: 57363.3242 - val_loss: 5464171520.0000 - val_mean_absolute_error: 58445.6562\n",
      "Epoch 264/300\n",
      "1300/1300 [==============================] - 0s 24us/sample - loss: 6411744618.3385 - mean_absolute_error: 57346.1680 - val_loss: 5464185344.0000 - val_mean_absolute_error: 58447.3945\n",
      "Epoch 265/300\n",
      "1300/1300 [==============================] - 0s 23us/sample - loss: 6413726050.4615 - mean_absolute_error: 57341.7227 - val_loss: 5464475904.0000 - val_mean_absolute_error: 58480.3242\n",
      "Epoch 266/300\n",
      "1300/1300 [==============================] - 0s 24us/sample - loss: 6411963833.1077 - mean_absolute_error: 57472.7695 - val_loss: 5464718336.0000 - val_mean_absolute_error: 58504.0000\n",
      "Epoch 267/300\n",
      "1300/1300 [==============================] - 0s 22us/sample - loss: 6413131606.6462 - mean_absolute_error: 57466.3984 - val_loss: 5463770880.0000 - val_mean_absolute_error: 58382.5000\n",
      "Epoch 268/300\n",
      "1300/1300 [==============================] - 0s 25us/sample - loss: 6411464806.4000 - mean_absolute_error: 57279.2734 - val_loss: 5463875584.0000 - val_mean_absolute_error: 58402.4258\n",
      "Epoch 269/300\n",
      "1300/1300 [==============================] - 0s 25us/sample - loss: 6412265109.6615 - mean_absolute_error: 57302.4180 - val_loss: 5464256000.0000 - val_mean_absolute_error: 58456.0117\n",
      "Epoch 270/300\n",
      "1300/1300 [==============================] - 0s 24us/sample - loss: 6411759923.2000 - mean_absolute_error: 57320.3867 - val_loss: 5463793152.0000 - val_mean_absolute_error: 58387.0625\n",
      "Epoch 271/300\n",
      "1300/1300 [==============================] - 0s 21us/sample - loss: 6411738840.6154 - mean_absolute_error: 57381.6875 - val_loss: 5463556608.0000 - val_mean_absolute_error: 58309.4883\n",
      "Epoch 272/300\n",
      "1300/1300 [==============================] - 0s 24us/sample - loss: 6412862597.9077 - mean_absolute_error: 57179.8750 - val_loss: 5463551488.0000 - val_mean_absolute_error: 58304.7617\n",
      "Epoch 273/300\n",
      "1300/1300 [==============================] - 0s 24us/sample - loss: 6412003942.4000 - mean_absolute_error: 57222.4609 - val_loss: 5463696384.0000 - val_mean_absolute_error: 58365.3008\n",
      "Epoch 274/300\n",
      "1300/1300 [==============================] - 0s 22us/sample - loss: 6411158181.4154 - mean_absolute_error: 57267.6875 - val_loss: 5463831040.0000 - val_mean_absolute_error: 58394.3555\n",
      "Epoch 275/300\n",
      "1300/1300 [==============================] - 0s 24us/sample - loss: 6412639192.6154 - mean_absolute_error: 57310.7031 - val_loss: 5463808000.0000 - val_mean_absolute_error: 58390.0391\n",
      "Epoch 276/300\n",
      "1300/1300 [==============================] - 0s 25us/sample - loss: 6413346611.2000 - mean_absolute_error: 57363.0039 - val_loss: 5463734528.0000 - val_mean_absolute_error: 58374.5742\n",
      "Epoch 277/300\n",
      "1300/1300 [==============================] - 0s 22us/sample - loss: 6412270304.4923 - mean_absolute_error: 57250.3125 - val_loss: 5463655936.0000 - val_mean_absolute_error: 58354.2188\n",
      "Epoch 278/300\n",
      "1300/1300 [==============================] - 0s 26us/sample - loss: 6412417386.3385 - mean_absolute_error: 57191.9492 - val_loss: 5464241664.0000 - val_mean_absolute_error: 58454.3320\n",
      "Epoch 279/300\n",
      "1300/1300 [==============================] - 0s 24us/sample - loss: 6412077115.0769 - mean_absolute_error: 57418.9180 - val_loss: 5463691264.0000 - val_mean_absolute_error: 58363.9258\n",
      "Epoch 280/300\n",
      "1300/1300 [==============================] - 0s 25us/sample - loss: 6411760655.7538 - mean_absolute_error: 57284.9336 - val_loss: 5464750848.0000 - val_mean_absolute_error: 58506.9883\n",
      "Epoch 281/300\n",
      "1300/1300 [==============================] - 0s 21us/sample - loss: 6412132060.5538 - mean_absolute_error: 57409.0156 - val_loss: 5464490496.0000 - val_mean_absolute_error: 58481.8359\n",
      "Epoch 282/300\n",
      "1300/1300 [==============================] - 0s 25us/sample - loss: 6412116936.8615 - mean_absolute_error: 57471.9766 - val_loss: 5463814912.0000 - val_mean_absolute_error: 58391.3516\n",
      "Epoch 283/300\n",
      "1300/1300 [==============================] - 0s 25us/sample - loss: 6412170688.9846 - mean_absolute_error: 57315.0586 - val_loss: 5463586560.0000 - val_mean_absolute_error: 58328.4492\n",
      "Epoch 284/300\n",
      "1300/1300 [==============================] - 0s 28us/sample - loss: 6412633324.3077 - mean_absolute_error: 57201.9766 - val_loss: 5464121600.0000 - val_mean_absolute_error: 58439.2695\n",
      "Epoch 285/300\n",
      "1300/1300 [==============================] - 0s 23us/sample - loss: 6411873721.1077 - mean_absolute_error: 57410.2109 - val_loss: 5463902208.0000 - val_mean_absolute_error: 58406.9492\n",
      "Epoch 286/300\n",
      "1300/1300 [==============================] - 0s 22us/sample - loss: 6411980563.6923 - mean_absolute_error: 57275.0469 - val_loss: 5463777024.0000 - val_mean_absolute_error: 58383.8359\n",
      "Epoch 287/300\n",
      "1300/1300 [==============================] - 0s 23us/sample - loss: 6411704942.2769 - mean_absolute_error: 57337.6055 - val_loss: 5463651840.0000 - val_mean_absolute_error: 58352.9180\n",
      "Epoch 288/300\n",
      "1300/1300 [==============================] - 0s 20us/sample - loss: 6412627960.1231 - mean_absolute_error: 57290.7891 - val_loss: 5463546624.0000 - val_mean_absolute_error: 58297.1641\n",
      "Epoch 289/300\n",
      "1300/1300 [==============================] - 0s 20us/sample - loss: 6412281572.4308 - mean_absolute_error: 57123.5820 - val_loss: 5463644416.0000 - val_mean_absolute_error: 58350.6875\n",
      "Epoch 290/300\n",
      "1300/1300 [==============================] - 0s 18us/sample - loss: 6412128783.7538 - mean_absolute_error: 57268.8438 - val_loss: 5463597824.0000 - val_mean_absolute_error: 58333.7500\n",
      "Epoch 291/300\n",
      "1300/1300 [==============================] - 0s 27us/sample - loss: 6411982426.5846 - mean_absolute_error: 57243.6484 - val_loss: 5463600256.0000 - val_mean_absolute_error: 58334.6367\n",
      "Epoch 292/300\n",
      "1300/1300 [==============================] - 0s 24us/sample - loss: 6411849003.3231 - mean_absolute_error: 57252.1055 - val_loss: 5463722496.0000 - val_mean_absolute_error: 58371.6992\n",
      "Epoch 293/300\n",
      "1300/1300 [==============================] - 0s 20us/sample - loss: 6412131249.2308 - mean_absolute_error: 57328.3555 - val_loss: 5464259584.0000 - val_mean_absolute_error: 58456.4766\n",
      "Epoch 294/300\n",
      "1300/1300 [==============================] - 0s 22us/sample - loss: 6411252168.8615 - mean_absolute_error: 57407.8086 - val_loss: 5464384000.0000 - val_mean_absolute_error: 58470.5859\n",
      "Epoch 295/300\n",
      "1300/1300 [==============================] - 0s 23us/sample - loss: 6412729611.8154 - mean_absolute_error: 57381.2539 - val_loss: 5464934656.0000 - val_mean_absolute_error: 58523.1250\n",
      "Epoch 296/300\n",
      "1300/1300 [==============================] - 0s 22us/sample - loss: 6412132470.1538 - mean_absolute_error: 57454.9922 - val_loss: 5464081664.0000 - val_mean_absolute_error: 58433.9062\n",
      "Epoch 297/300\n",
      "1300/1300 [==============================] - 0s 23us/sample - loss: 6411973758.0308 - mean_absolute_error: 57436.6406 - val_loss: 5463701760.0000 - val_mean_absolute_error: 58366.6367\n",
      "Epoch 298/300\n",
      "1300/1300 [==============================] - 0s 17us/sample - loss: 6411479804.0615 - mean_absolute_error: 57302.4375 - val_loss: 5463984128.0000 - val_mean_absolute_error: 58419.9062\n",
      "Epoch 299/300\n",
      "1300/1300 [==============================] - 0s 22us/sample - loss: 6411572696.6154 - mean_absolute_error: 57298.0117 - val_loss: 5465099520.0000 - val_mean_absolute_error: 58536.6797\n",
      "Epoch 300/300\n",
      "1300/1300 [==============================] - 0s 19us/sample - loss: 6412549750.1538 - mean_absolute_error: 57556.8047 - val_loss: 5464516608.0000 - val_mean_absolute_error: 58484.5078\n"
     ]
    }
   ],
   "source": [
    "test = hyperparam_investigator(300,2,[64,64])"
   ]
  },
  {
   "cell_type": "code",
   "execution_count": null,
   "metadata": {},
   "outputs": [
    {
     "name": "stdout",
     "output_type": "stream",
     "text": [
      "58329.812\n"
     ]
    },
    {
     "data": {
      "image/png": "[encoded data removed]",
      "text/plain": [
       "<Figure size 720x360 with 2 Axes>"
      ]
     },
     "metadata": {
      "needs_background": "light"
     },
     "output_type": "display_data"
    }
   ],
   "source": [
    "plotter(test, start_mae = 70,start_train= 110)\n"
   ]
  },
  {
   "cell_type": "code",
   "execution_count": null,
   "metadata": {},
   "outputs": [],
   "source": []
  },
  {
   "cell_type": "code",
   "execution_count": null,
   "metadata": {},
   "outputs": [
    {
     "name": "stdout",
     "output_type": "stream",
     "text": [
      "nan\n"
     ]
    },
    {
     "data": {
      "image/png": "[encoded data removed]",
      "text/plain": [
       "<Figure size 720x360 with 2 Axes>"
      ]
     },
     "metadata": {
      "needs_background": "light"
     },
     "output_type": "display_data"
    }
   ],
   "source": [
    "hyperparam_investigator(300,2,[128,128])"
   ]
  },
  {
   "cell_type": "markdown",
   "metadata": {},
   "source": [
    "Adding a further Layer did not help with minimising the mae, I think just fiddling with the hyperparameters this evening is going to be a good idea"
   ]
  },
  {
   "cell_type": "code",
   "execution_count": null,
   "metadata": {},
   "outputs": [
    {
     "name": "stdout",
     "output_type": "stream",
     "text": [
      "nan\n",
      "56927.15\n"
     ]
    },
    {
     "data": {
      "image/png": "[encoded data removed]",
      "text/plain": [
       "<Figure size 720x360 with 2 Axes>"
      ]
     },
     "metadata": {
      "needs_background": "light"
     },
     "output_type": "display_data"
    },
    {
     "data": {
      "image/png": "[encoded data removed]",
      "text/plain": [
       "<Figure size 720x360 with 2 Axes>"
      ]
     },
     "metadata": {
      "needs_background": "light"
     },
     "output_type": "display_data"
    }
   ],
   "source": [
    "hyperparam_investigator(300,3,[128,128,128])\n",
    "hyperparam_investigator(1000,2,[64,64])"
   ]
  },
  {
   "cell_type": "code",
   "execution_count": null,
   "metadata": {},
   "outputs": [],
   "source": []
  },
  {
   "cell_type": "markdown",
   "metadata": {},
   "source": [
    "This is worth keeping clearly shows the overtraining. The results are worse than the first test. This is probably due to the lack of degrees of freedom that this model has. "
   ]
  },
  {
   "cell_type": "code",
   "execution_count": null,
   "metadata": {},
   "outputs": [
    {
     "name": "stdout",
     "output_type": "stream",
     "text": [
      "nan\n"
     ]
    },
    {
     "data": {
      "image/png": "[encoded data removed]",
      "text/plain": [
       "<Figure size 720x360 with 2 Axes>"
      ]
     },
     "metadata": {
      "needs_background": "light"
     },
     "output_type": "display_data"
    }
   ],
   "source": [
    "hyperparam_investigator(1000,2,[128*3,128*3])"
   ]
  },
  {
   "cell_type": "markdown",
   "metadata": {},
   "source": [
    "I think that this minimum is anomalous and this larger network is not the solution "
   ]
  },
  {
   "cell_type": "code",
   "execution_count": null,
   "metadata": {},
   "outputs": [
    {
     "name": "stdout",
     "output_type": "stream",
     "text": [
      "nan\n"
     ]
    },
    {
     "data": {
      "image/png": "[encoded data removed]",
      "text/plain": [
       "<Figure size 720x360 with 2 Axes>"
      ]
     },
     "metadata": {
      "needs_background": "light"
     },
     "output_type": "display_data"
    }
   ],
   "source": [
    "hyperparam_investigator(500,2,[256,256])"
   ]
  },
  {
   "cell_type": "code",
   "execution_count": null,
   "metadata": {},
   "outputs": [],
   "source": []
  },
  {
   "cell_type": "code",
   "execution_count": null,
   "metadata": {},
   "outputs": [],
   "source": []
  },
  {
   "cell_type": "code",
   "execution_count": null,
   "metadata": {},
   "outputs": [],
   "source": []
  },
  {
   "cell_type": "code",
   "execution_count": null,
   "metadata": {},
   "outputs": [],
   "source": []
  }
 ],
 "metadata": {
  "interpreter": {
   "hash": "747e10b70f6080f0bd7f506f4a278cc40a2da2e2842866c9e118e4fa0fbc3bf4"
  },
  "kernelspec": {
   "display_name": "Python 3.7.11 64-bit ('tf-gpu-cuda8': conda)",
   "name": "python3"
  },
  "language_info": {
   "codemirror_mode": {
    "name": "ipython",
    "version": 3
   },
   "file_extension": ".py",
   "mimetype": "text/x-python",
   "name": "python",
   "nbconvert_exporter": "python",
   "pygments_lexer": "ipython3",
   "version": "3.7.11"
  },
  "orig_nbformat": 4
 },
 "nbformat": 4,
 "nbformat_minor": 2
}
