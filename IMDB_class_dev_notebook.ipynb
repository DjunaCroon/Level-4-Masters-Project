{
 "cells": [
  {
   "cell_type": "code",
   "execution_count": 1,
   "source": [
    "import tensorflow as tf \n",
    "from tensorflow import keras\n",
    "from tensorflow.keras import layers \n",
    "from tensorflow.keras import models \n",
    "import numpy as np\n",
    "import matplotlib.pyplot as plt "
   ],
   "outputs": [
    {
     "output_type": "stream",
     "name": "stderr",
     "text": [
      "/home/sean/anaconda3/envs/tf-gpu-cuda8/lib/python3.7/site-packages/tensorflow/python/framework/dtypes.py:516: FutureWarning: Passing (type, 1) or '1type' as a synonym of type is deprecated; in a future version of numpy, it will be understood as (type, (1,)) / '(1,)type'.\n",
      "  _np_qint8 = np.dtype([(\"qint8\", np.int8, 1)])\n",
      "/home/sean/anaconda3/envs/tf-gpu-cuda8/lib/python3.7/site-packages/tensorflow/python/framework/dtypes.py:517: FutureWarning: Passing (type, 1) or '1type' as a synonym of type is deprecated; in a future version of numpy, it will be understood as (type, (1,)) / '(1,)type'.\n",
      "  _np_quint8 = np.dtype([(\"quint8\", np.uint8, 1)])\n",
      "/home/sean/anaconda3/envs/tf-gpu-cuda8/lib/python3.7/site-packages/tensorflow/python/framework/dtypes.py:518: FutureWarning: Passing (type, 1) or '1type' as a synonym of type is deprecated; in a future version of numpy, it will be understood as (type, (1,)) / '(1,)type'.\n",
      "  _np_qint16 = np.dtype([(\"qint16\", np.int16, 1)])\n",
      "/home/sean/anaconda3/envs/tf-gpu-cuda8/lib/python3.7/site-packages/tensorflow/python/framework/dtypes.py:519: FutureWarning: Passing (type, 1) or '1type' as a synonym of type is deprecated; in a future version of numpy, it will be understood as (type, (1,)) / '(1,)type'.\n",
      "  _np_quint16 = np.dtype([(\"quint16\", np.uint16, 1)])\n",
      "/home/sean/anaconda3/envs/tf-gpu-cuda8/lib/python3.7/site-packages/tensorflow/python/framework/dtypes.py:520: FutureWarning: Passing (type, 1) or '1type' as a synonym of type is deprecated; in a future version of numpy, it will be understood as (type, (1,)) / '(1,)type'.\n",
      "  _np_qint32 = np.dtype([(\"qint32\", np.int32, 1)])\n",
      "/home/sean/anaconda3/envs/tf-gpu-cuda8/lib/python3.7/site-packages/tensorflow/python/framework/dtypes.py:525: FutureWarning: Passing (type, 1) or '1type' as a synonym of type is deprecated; in a future version of numpy, it will be understood as (type, (1,)) / '(1,)type'.\n",
      "  np_resource = np.dtype([(\"resource\", np.ubyte, 1)])\n",
      "/home/sean/anaconda3/envs/tf-gpu-cuda8/lib/python3.7/site-packages/tensorboard/compat/tensorflow_stub/dtypes.py:541: FutureWarning: Passing (type, 1) or '1type' as a synonym of type is deprecated; in a future version of numpy, it will be understood as (type, (1,)) / '(1,)type'.\n",
      "  _np_qint8 = np.dtype([(\"qint8\", np.int8, 1)])\n",
      "/home/sean/anaconda3/envs/tf-gpu-cuda8/lib/python3.7/site-packages/tensorboard/compat/tensorflow_stub/dtypes.py:542: FutureWarning: Passing (type, 1) or '1type' as a synonym of type is deprecated; in a future version of numpy, it will be understood as (type, (1,)) / '(1,)type'.\n",
      "  _np_quint8 = np.dtype([(\"quint8\", np.uint8, 1)])\n",
      "/home/sean/anaconda3/envs/tf-gpu-cuda8/lib/python3.7/site-packages/tensorboard/compat/tensorflow_stub/dtypes.py:543: FutureWarning: Passing (type, 1) or '1type' as a synonym of type is deprecated; in a future version of numpy, it will be understood as (type, (1,)) / '(1,)type'.\n",
      "  _np_qint16 = np.dtype([(\"qint16\", np.int16, 1)])\n",
      "/home/sean/anaconda3/envs/tf-gpu-cuda8/lib/python3.7/site-packages/tensorboard/compat/tensorflow_stub/dtypes.py:544: FutureWarning: Passing (type, 1) or '1type' as a synonym of type is deprecated; in a future version of numpy, it will be understood as (type, (1,)) / '(1,)type'.\n",
      "  _np_quint16 = np.dtype([(\"quint16\", np.uint16, 1)])\n",
      "/home/sean/anaconda3/envs/tf-gpu-cuda8/lib/python3.7/site-packages/tensorboard/compat/tensorflow_stub/dtypes.py:545: FutureWarning: Passing (type, 1) or '1type' as a synonym of type is deprecated; in a future version of numpy, it will be understood as (type, (1,)) / '(1,)type'.\n",
      "  _np_qint32 = np.dtype([(\"qint32\", np.int32, 1)])\n",
      "/home/sean/anaconda3/envs/tf-gpu-cuda8/lib/python3.7/site-packages/tensorboard/compat/tensorflow_stub/dtypes.py:550: FutureWarning: Passing (type, 1) or '1type' as a synonym of type is deprecated; in a future version of numpy, it will be understood as (type, (1,)) / '(1,)type'.\n",
      "  np_resource = np.dtype([(\"resource\", np.ubyte, 1)])\n"
     ]
    }
   ],
   "metadata": {}
  },
  {
   "cell_type": "code",
   "execution_count": 2,
   "source": [
    "from tensorflow.keras.datasets import imdb"
   ],
   "outputs": [],
   "metadata": {}
  },
  {
   "cell_type": "markdown",
   "source": [
    "Following along with the book Deep Learning with Python by Francois Chollet, \n",
    "determining positive or negative reviews\n"
   ],
   "metadata": {}
  },
  {
   "cell_type": "code",
   "execution_count": 3,
   "source": [
    "(train_data,train_labels),(test_data,test_labels) = imdb.load_data(num_words= 10000)"
   ],
   "outputs": [
    {
     "output_type": "stream",
     "name": "stderr",
     "text": [
      "/home/sean/anaconda3/envs/tf-gpu-cuda8/lib/python3.7/site-packages/tensorflow/python/keras/datasets/imdb.py:128: VisibleDeprecationWarning: Creating an ndarray from ragged nested sequences (which is a list-or-tuple of lists-or-tuples-or ndarrays with different lengths or shapes) is deprecated. If you meant to do this, you must specify 'dtype=object' when creating the ndarray.\n",
      "  x_train, y_train = np.array(xs[:idx]), np.array(labels[:idx])\n",
      "/home/sean/anaconda3/envs/tf-gpu-cuda8/lib/python3.7/site-packages/tensorflow/python/keras/datasets/imdb.py:129: VisibleDeprecationWarning: Creating an ndarray from ragged nested sequences (which is a list-or-tuple of lists-or-tuples-or ndarrays with different lengths or shapes) is deprecated. If you meant to do this, you must specify 'dtype=object' when creating the ndarray.\n",
      "  x_test, y_test = np.array(xs[idx:]), np.array(labels[idx:])\n"
     ]
    }
   ],
   "metadata": {}
  },
  {
   "cell_type": "code",
   "execution_count": 4,
   "source": [
    "word_index = imdb.get_word_index()"
   ],
   "outputs": [],
   "metadata": {}
  },
  {
   "cell_type": "markdown",
   "source": [
    "### List decoding \n",
    "The imdb reviews are encoded so that the 10,000 most common words are given an integer each, and then the review is turned into a list. The dictionary which references this is word_index.items()\n",
    "The function below, decodes a single review.\n"
   ],
   "metadata": {}
  },
  {
   "cell_type": "code",
   "execution_count": 5,
   "source": [
    "def Review_decode(review_index):\n",
    "    reverse_word_index = dict(\n",
    "        [(value, key) for (key,value) in word_index.items()])\n",
    "    decoced_review = ' '.join(\n",
    "    reverse_word_index.get(i-3,'?') for i in train_data [review_index]\n",
    "    )\n",
    "    return decoced_review"
   ],
   "outputs": [],
   "metadata": {}
  },
  {
   "cell_type": "markdown",
   "source": [
    "In order to input the reviews into a neural net in keras there are two options to vectorise the imput. Either have padded lists which have length = max length of the review. \n",
    "or each review can be encoded into a matrix of 10,000 x number words in review, where the inputs are one-hot. "
   ],
   "metadata": {}
  },
  {
   "cell_type": "code",
   "execution_count": 6,
   "source": [
    "def vectorise_sequence(sequences, dimention = 10000):\n",
    "    results = np.zeros((len(sequences), dimention))\n",
    "    for i, sequence in enumerate(sequences):\n",
    "        results[i,sequence] = 1\n",
    "    return results\n",
    "    "
   ],
   "outputs": [],
   "metadata": {}
  },
  {
   "cell_type": "code",
   "execution_count": 7,
   "source": [
    "x_train = vectorise_sequence(train_data)\n",
    "x_test = vectorise_sequence(test_data)\n"
   ],
   "outputs": [],
   "metadata": {}
  },
  {
   "cell_type": "code",
   "execution_count": 8,
   "source": [
    "y_train = np.asarray(train_labels).astype(\"float32\")\n",
    "y_test = np.asarray(test_labels).astype(\"float32\")"
   ],
   "outputs": [],
   "metadata": {}
  },
  {
   "cell_type": "code",
   "execution_count": 37,
   "source": [
    "model = models.Sequential()\n",
    "model.add(layers.Dense(16,activation='relu',input_shape = (10000,)))\n",
    "model.add(layers.Dense(16,activation= 'relu'))\n",
    "model.add(layers.Dense(1,activation='sigmoid'))"
   ],
   "outputs": [],
   "metadata": {}
  },
  {
   "cell_type": "code",
   "execution_count": 38,
   "source": [
    "model.compile(optimizer='rmsprop',loss='binary_crossentropy',metrics=['accuracy'])"
   ],
   "outputs": [],
   "metadata": {}
  },
  {
   "cell_type": "code",
   "execution_count": 39,
   "source": [
    "x_val = x_train[:10000]\n",
    "partial_x_train = x_train[10000:]\n",
    "y_val = y_train[:10000]\n",
    "partial_y_train = y_train[10000:]"
   ],
   "outputs": [],
   "metadata": {}
  },
  {
   "cell_type": "code",
   "execution_count": 40,
   "source": [
    "history = model.fit(partial_x_train,partial_y_train,epochs= 20,batch_size=512,validation_data=(x_val,y_val))\n",
    "history_dict = history.history\n",
    "history_dict.keys()"
   ],
   "outputs": [
    {
     "output_type": "stream",
     "name": "stdout",
     "text": [
      "Train on 15000 samples, validate on 10000 samples\n",
      "Epoch 1/20\n",
      "15000/15000 [==============================] - 1s 42us/sample - loss: 0.4874 - acc: 0.7979 - val_loss: 0.3644 - val_acc: 0.8682\n",
      "Epoch 2/20\n",
      "15000/15000 [==============================] - 1s 37us/sample - loss: 0.2860 - acc: 0.9053 - val_loss: 0.3389 - val_acc: 0.8595\n",
      "Epoch 3/20\n",
      "15000/15000 [==============================] - 1s 35us/sample - loss: 0.2134 - acc: 0.9271 - val_loss: 0.2971 - val_acc: 0.8807\n",
      "Epoch 4/20\n",
      "15000/15000 [==============================] - 0s 31us/sample - loss: 0.1666 - acc: 0.9449 - val_loss: 0.2744 - val_acc: 0.8906\n",
      "Epoch 5/20\n",
      "15000/15000 [==============================] - 1s 34us/sample - loss: 0.1373 - acc: 0.9559 - val_loss: 0.3084 - val_acc: 0.8788\n",
      "Epoch 6/20\n",
      "15000/15000 [==============================] - 1s 34us/sample - loss: 0.1120 - acc: 0.9639 - val_loss: 0.3287 - val_acc: 0.8768\n",
      "Epoch 7/20\n",
      "15000/15000 [==============================] - 0s 33us/sample - loss: 0.0901 - acc: 0.9739 - val_loss: 0.3397 - val_acc: 0.8761\n",
      "Epoch 8/20\n",
      "15000/15000 [==============================] - 1s 36us/sample - loss: 0.0770 - acc: 0.9777 - val_loss: 0.3526 - val_acc: 0.8747\n",
      "Epoch 9/20\n",
      "15000/15000 [==============================] - 1s 37us/sample - loss: 0.0625 - acc: 0.9837 - val_loss: 0.3691 - val_acc: 0.8810\n",
      "Epoch 10/20\n",
      "15000/15000 [==============================] - 0s 33us/sample - loss: 0.0523 - acc: 0.9863 - val_loss: 0.3893 - val_acc: 0.8784\n",
      "Epoch 11/20\n",
      "15000/15000 [==============================] - 0s 31us/sample - loss: 0.0432 - acc: 0.9895 - val_loss: 0.4610 - val_acc: 0.8656\n",
      "Epoch 12/20\n",
      "15000/15000 [==============================] - 0s 31us/sample - loss: 0.0322 - acc: 0.9937 - val_loss: 0.4457 - val_acc: 0.8736\n",
      "Epoch 13/20\n",
      "15000/15000 [==============================] - 1s 33us/sample - loss: 0.0281 - acc: 0.9934 - val_loss: 0.4788 - val_acc: 0.8735\n",
      "Epoch 14/20\n",
      "15000/15000 [==============================] - 0s 33us/sample - loss: 0.0210 - acc: 0.9959 - val_loss: 0.5115 - val_acc: 0.8716\n",
      "Epoch 15/20\n",
      "15000/15000 [==============================] - 0s 32us/sample - loss: 0.0169 - acc: 0.9974 - val_loss: 0.5442 - val_acc: 0.8676\n",
      "Epoch 16/20\n",
      "15000/15000 [==============================] - 1s 34us/sample - loss: 0.0097 - acc: 0.9995 - val_loss: 0.5767 - val_acc: 0.8702\n",
      "Epoch 17/20\n",
      "15000/15000 [==============================] - 0s 33us/sample - loss: 0.0117 - acc: 0.9979 - val_loss: 0.6122 - val_acc: 0.8693\n",
      "Epoch 18/20\n",
      "15000/15000 [==============================] - 0s 33us/sample - loss: 0.0096 - acc: 0.9981 - val_loss: 0.6478 - val_acc: 0.8659\n",
      "Epoch 19/20\n",
      "15000/15000 [==============================] - 0s 33us/sample - loss: 0.0039 - acc: 0.9999 - val_loss: 0.6817 - val_acc: 0.8647\n",
      "Epoch 20/20\n",
      "15000/15000 [==============================] - 1s 35us/sample - loss: 0.0069 - acc: 0.9987 - val_loss: 0.7123 - val_acc: 0.8664\n"
     ]
    },
    {
     "output_type": "execute_result",
     "data": {
      "text/plain": [
       "dict_keys(['loss', 'acc', 'val_loss', 'val_acc'])"
      ]
     },
     "metadata": {},
     "execution_count": 40
    }
   ],
   "metadata": {}
  },
  {
   "cell_type": "markdown",
   "source": [
    "## Loss function \n",
    "This is plotting binary cross entropy, on the training data and the validation data. I think this is a classic example of overtraining, where the loss function is minimised for the small data set and the true loss on the whole data set is increasing \n"
   ],
   "metadata": {}
  },
  {
   "cell_type": "code",
   "execution_count": 41,
   "source": [
    "\n",
    "loss = history_dict['loss']\n",
    "val_loss_values = history_dict['val_loss']#\n",
    "\n",
    "\n",
    "epochs = range(1,len(history_dict['acc'])+1)\n",
    "\n",
    "\n",
    "##Plotting \n",
    "plt.plot(epochs, val_loss_values,'b',label ='Validation loss')\n",
    "plt.plot(epochs, loss,'bo',label ='Training loss')\n",
    "plt.legend()\n",
    "plt.xlabel('Epochs')\n",
    "plt.ylabel('Loss')"
   ],
   "outputs": [
    {
     "output_type": "execute_result",
     "data": {
      "text/plain": [
       "Text(0, 0.5, 'Loss')"
      ]
     },
     "metadata": {},
     "execution_count": 41
    },
    {
     "output_type": "display_data",
     "data": {
      "image/png": "[encoded data removed]",
      "text/plain": [
       "<Figure size 432x288 with 1 Axes>"
      ]
     },
     "metadata": {
      "needs_background": "light"
     }
    }
   ],
   "metadata": {}
  },
  {
   "cell_type": "markdown",
   "source": [
    "## Accuracy Plotting \n",
    "This further show the overtraining where the accuracy decreases to 87% but the accuracy on the training data is much higher at 99% \n"
   ],
   "metadata": {}
  },
  {
   "cell_type": "code",
   "execution_count": 43,
   "source": [
    "acc_values = history_dict['acc']\n",
    "val_acc_values = history_dict['val_acc']\n",
    "print(val_acc_values[-1])\n",
    "\n",
    "plt.plot(epochs,acc_values,'bo')\n",
    "plt.plot(epochs,val_acc_values)\n",
    "plt.xlabel('Epochs')\n",
    "plt.ylabel('Accuraccy')"
   ],
   "outputs": [
    {
     "output_type": "stream",
     "name": "stdout",
     "text": [
      "0.8664\n"
     ]
    },
    {
     "output_type": "execute_result",
     "data": {
      "text/plain": [
       "Text(0, 0.5, 'Accuraccy')"
      ]
     },
     "metadata": {},
     "execution_count": 43
    },
    {
     "output_type": "display_data",
     "data": {
      "image/png": "[encoded data removed]",
      "text/plain": [
       "<Figure size 432x288 with 1 Axes>"
      ]
     },
     "metadata": {
      "needs_background": "light"
     }
    }
   ],
   "metadata": {}
  },
  {
   "cell_type": "markdown",
   "source": [
    "The model predict function I think is doing something close to soft max where there is a pdf of the output, this gives you the probability that a review is positive "
   ],
   "metadata": {}
  },
  {
   "cell_type": "code",
   "execution_count": 25,
   "source": [
    "model.predict(x_test)[:10]"
   ],
   "outputs": [
    {
     "output_type": "execute_result",
     "data": {
      "text/plain": [
       "array([[3.8354397e-03],\n",
       "       [1.0000000e+00],\n",
       "       [9.8756433e-01],\n",
       "       [9.8976403e-01],\n",
       "       [9.9791026e-01],\n",
       "       [9.9986905e-01],\n",
       "       [9.8600268e-01],\n",
       "       [2.8878450e-05],\n",
       "       [9.9125421e-01],\n",
       "       [1.0000000e+00]], dtype=float32)"
      ]
     },
     "metadata": {},
     "execution_count": 25
    }
   ],
   "metadata": {}
  },
  {
   "cell_type": "markdown",
   "source": [
    "Below is a test on what happens when I remove a layer \n",
    "I maintiained the similar accuracy when changing some of the parameters, the standadrd deviation on the accuracy increases. \n"
   ],
   "metadata": {}
  },
  {
   "cell_type": "code",
   "execution_count": 52,
   "source": [
    "model_prime = models.Sequential()\n",
    "model_prime.add(layers.Dense(128,activation='relu',input_shape = (10000,)))\n",
    "model_prime.add(layers.Dense(128,activation= 'relu'))\n",
    "model_prime.add(layers.Dense(1,activation='sigmoid'))\n",
    "model_prime.compile(optimizer='rmsprop',loss='binary_crossentropy',metrics=['accuracy'])"
   ],
   "outputs": [],
   "metadata": {}
  },
  {
   "cell_type": "code",
   "execution_count": 53,
   "source": [
    "history_prime = model_prime.fit(partial_x_train,partial_y_train,epochs= 20,batch_size=512,validation_data=(x_val,y_val))"
   ],
   "outputs": [
    {
     "output_type": "stream",
     "name": "stdout",
     "text": [
      "Train on 15000 samples, validate on 10000 samples\n",
      "Epoch 1/20\n",
      "15000/15000 [==============================] - 1s 38us/sample - loss: 0.4948 - acc: 0.7659 - val_loss: 0.3134 - val_acc: 0.8798\n",
      "Epoch 2/20\n",
      "15000/15000 [==============================] - 0s 29us/sample - loss: 0.2593 - acc: 0.9030 - val_loss: 0.2761 - val_acc: 0.8895\n",
      "Epoch 3/20\n",
      "15000/15000 [==============================] - 0s 29us/sample - loss: 0.1800 - acc: 0.9344 - val_loss: 0.2792 - val_acc: 0.8885\n",
      "Epoch 4/20\n",
      "15000/15000 [==============================] - 0s 33us/sample - loss: 0.1190 - acc: 0.9556 - val_loss: 0.3185 - val_acc: 0.8876\n",
      "Epoch 5/20\n",
      "15000/15000 [==============================] - 1s 34us/sample - loss: 0.0820 - acc: 0.9734 - val_loss: 0.3588 - val_acc: 0.8818\n",
      "Epoch 6/20\n",
      "15000/15000 [==============================] - 0s 31us/sample - loss: 0.0737 - acc: 0.9793 - val_loss: 0.3617 - val_acc: 0.8842\n",
      "Epoch 7/20\n",
      "15000/15000 [==============================] - 0s 30us/sample - loss: 0.0125 - acc: 0.9983 - val_loss: 0.4601 - val_acc: 0.8833\n",
      "Epoch 8/20\n",
      "15000/15000 [==============================] - 0s 30us/sample - loss: 0.0687 - acc: 0.9832 - val_loss: 0.4430 - val_acc: 0.8830\n",
      "Epoch 9/20\n",
      "15000/15000 [==============================] - 0s 30us/sample - loss: 0.0035 - acc: 0.9997 - val_loss: 0.5251 - val_acc: 0.8821\n",
      "Epoch 10/20\n",
      "15000/15000 [==============================] - 0s 30us/sample - loss: 0.0014 - acc: 0.9999 - val_loss: 0.6147 - val_acc: 0.8809\n",
      "Epoch 11/20\n",
      "15000/15000 [==============================] - 0s 29us/sample - loss: 5.0766e-04 - acc: 1.0000 - val_loss: 1.6226 - val_acc: 0.7919\n",
      "Epoch 12/20\n",
      "15000/15000 [==============================] - 0s 30us/sample - loss: 0.0797 - acc: 0.9880 - val_loss: 0.6835 - val_acc: 0.8762\n",
      "Epoch 13/20\n",
      "15000/15000 [==============================] - 0s 32us/sample - loss: 2.7907e-04 - acc: 1.0000 - val_loss: 0.7206 - val_acc: 0.8771\n",
      "Epoch 14/20\n",
      "15000/15000 [==============================] - 0s 30us/sample - loss: 1.4487e-04 - acc: 1.0000 - val_loss: 0.7852 - val_acc: 0.8762\n",
      "Epoch 15/20\n",
      "15000/15000 [==============================] - 0s 29us/sample - loss: 6.7456e-05 - acc: 1.0000 - val_loss: 0.8729 - val_acc: 0.8758\n",
      "Epoch 16/20\n",
      "15000/15000 [==============================] - 0s 30us/sample - loss: 2.3758e-05 - acc: 1.0000 - val_loss: 0.9878 - val_acc: 0.8765\n",
      "Epoch 17/20\n",
      "15000/15000 [==============================] - 0s 30us/sample - loss: 0.1308 - acc: 0.9853 - val_loss: 0.9526 - val_acc: 0.8750\n",
      "Epoch 18/20\n",
      "15000/15000 [==============================] - 0s 30us/sample - loss: 8.6122e-06 - acc: 1.0000 - val_loss: 0.9619 - val_acc: 0.8746\n",
      "Epoch 19/20\n",
      "15000/15000 [==============================] - 0s 30us/sample - loss: 6.9989e-06 - acc: 1.0000 - val_loss: 0.9712 - val_acc: 0.8744\n",
      "Epoch 20/20\n",
      "15000/15000 [==============================] - 0s 31us/sample - loss: 6.0291e-06 - acc: 1.0000 - val_loss: 0.9840 - val_acc: 0.8741\n"
     ]
    }
   ],
   "metadata": {}
  },
  {
   "cell_type": "code",
   "execution_count": 54,
   "source": [
    "history_dict = history_prime.history\n",
    "history_dict.keys()\n",
    "acc_values = history_dict['acc']\n",
    "val_acc_values = history_dict['val_acc']\n",
    "print(val_acc_values[-1])\n",
    "\n",
    "plt.plot(epochs,acc_values,'bo')\n",
    "plt.plot(epochs,val_acc_values)\n",
    "plt.xlabel('Epochs')\n",
    "plt.ylabel('Accuracy')"
   ],
   "outputs": [
    {
     "output_type": "stream",
     "name": "stdout",
     "text": [
      "0.8741\n"
     ]
    },
    {
     "output_type": "execute_result",
     "data": {
      "text/plain": [
       "Text(0, 0.5, 'Accuracy')"
      ]
     },
     "metadata": {},
     "execution_count": 54
    },
    {
     "output_type": "display_data",
     "data": {
      "image/png": "[encoded data removed]",
      "text/plain": [
       "<Figure size 432x288 with 1 Axes>"
      ]
     },
     "metadata": {
      "needs_background": "light"
     }
    }
   ],
   "metadata": {}
  },
  {
   "cell_type": "code",
   "execution_count": null,
   "source": [],
   "outputs": [],
   "metadata": {}
  },
  {
   "cell_type": "code",
   "execution_count": null,
   "source": [],
   "outputs": [],
   "metadata": {}
  },
  {
   "cell_type": "code",
   "execution_count": null,
   "source": [],
   "outputs": [],
   "metadata": {}
  }
 ],
 "metadata": {
  "orig_nbformat": 4,
  "language_info": {
   "name": "python",
   "version": "3.7.11",
   "mimetype": "text/x-python",
   "codemirror_mode": {
    "name": "ipython",
    "version": 3
   },
   "pygments_lexer": "ipython3",
   "nbconvert_exporter": "python",
   "file_extension": ".py"
  },
  "kernelspec": {
   "name": "python3",
   "display_name": "Python 3.7.11 64-bit ('tf-gpu-cuda8': conda)"
  },
  "interpreter": {
   "hash": "a6245cbb02b3002d21bba2b3ee468902fdd02b963ebb1d5643b2a1e6f5c1d59c"
  }
 },
 "nbformat": 4,
 "nbformat_minor": 2
}