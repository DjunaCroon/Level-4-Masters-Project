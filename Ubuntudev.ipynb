{
 "cells": [
  {
   "cell_type": "code",
   "execution_count": 1,
   "source": [
    "import tensorflow as tf \n",
    "from tensorflow import keras\n",
    "from tensorflow.keras import layers \n",
    "from tensorflow.keras import models \n",
    "import numpy as np\n",
    "import matplotlib.pyplot as plt "
   ],
   "outputs": [
    {
     "output_type": "stream",
     "name": "stderr",
     "text": [
      "/home/sean/anaconda3/envs/tf-gpu-cuda8/lib/python3.7/site-packages/tensorflow/python/framework/dtypes.py:516: FutureWarning: Passing (type, 1) or '1type' as a synonym of type is deprecated; in a future version of numpy, it will be understood as (type, (1,)) / '(1,)type'.\n",
      "  _np_qint8 = np.dtype([(\"qint8\", np.int8, 1)])\n",
      "/home/sean/anaconda3/envs/tf-gpu-cuda8/lib/python3.7/site-packages/tensorflow/python/framework/dtypes.py:517: FutureWarning: Passing (type, 1) or '1type' as a synonym of type is deprecated; in a future version of numpy, it will be understood as (type, (1,)) / '(1,)type'.\n",
      "  _np_quint8 = np.dtype([(\"quint8\", np.uint8, 1)])\n",
      "/home/sean/anaconda3/envs/tf-gpu-cuda8/lib/python3.7/site-packages/tensorflow/python/framework/dtypes.py:518: FutureWarning: Passing (type, 1) or '1type' as a synonym of type is deprecated; in a future version of numpy, it will be understood as (type, (1,)) / '(1,)type'.\n",
      "  _np_qint16 = np.dtype([(\"qint16\", np.int16, 1)])\n",
      "/home/sean/anaconda3/envs/tf-gpu-cuda8/lib/python3.7/site-packages/tensorflow/python/framework/dtypes.py:519: FutureWarning: Passing (type, 1) or '1type' as a synonym of type is deprecated; in a future version of numpy, it will be understood as (type, (1,)) / '(1,)type'.\n",
      "  _np_quint16 = np.dtype([(\"quint16\", np.uint16, 1)])\n",
      "/home/sean/anaconda3/envs/tf-gpu-cuda8/lib/python3.7/site-packages/tensorflow/python/framework/dtypes.py:520: FutureWarning: Passing (type, 1) or '1type' as a synonym of type is deprecated; in a future version of numpy, it will be understood as (type, (1,)) / '(1,)type'.\n",
      "  _np_qint32 = np.dtype([(\"qint32\", np.int32, 1)])\n",
      "/home/sean/anaconda3/envs/tf-gpu-cuda8/lib/python3.7/site-packages/tensorflow/python/framework/dtypes.py:525: FutureWarning: Passing (type, 1) or '1type' as a synonym of type is deprecated; in a future version of numpy, it will be understood as (type, (1,)) / '(1,)type'.\n",
      "  np_resource = np.dtype([(\"resource\", np.ubyte, 1)])\n",
      "/home/sean/anaconda3/envs/tf-gpu-cuda8/lib/python3.7/site-packages/tensorboard/compat/tensorflow_stub/dtypes.py:541: FutureWarning: Passing (type, 1) or '1type' as a synonym of type is deprecated; in a future version of numpy, it will be understood as (type, (1,)) / '(1,)type'.\n",
      "  _np_qint8 = np.dtype([(\"qint8\", np.int8, 1)])\n",
      "/home/sean/anaconda3/envs/tf-gpu-cuda8/lib/python3.7/site-packages/tensorboard/compat/tensorflow_stub/dtypes.py:542: FutureWarning: Passing (type, 1) or '1type' as a synonym of type is deprecated; in a future version of numpy, it will be understood as (type, (1,)) / '(1,)type'.\n",
      "  _np_quint8 = np.dtype([(\"quint8\", np.uint8, 1)])\n",
      "/home/sean/anaconda3/envs/tf-gpu-cuda8/lib/python3.7/site-packages/tensorboard/compat/tensorflow_stub/dtypes.py:543: FutureWarning: Passing (type, 1) or '1type' as a synonym of type is deprecated; in a future version of numpy, it will be understood as (type, (1,)) / '(1,)type'.\n",
      "  _np_qint16 = np.dtype([(\"qint16\", np.int16, 1)])\n",
      "/home/sean/anaconda3/envs/tf-gpu-cuda8/lib/python3.7/site-packages/tensorboard/compat/tensorflow_stub/dtypes.py:544: FutureWarning: Passing (type, 1) or '1type' as a synonym of type is deprecated; in a future version of numpy, it will be understood as (type, (1,)) / '(1,)type'.\n",
      "  _np_quint16 = np.dtype([(\"quint16\", np.uint16, 1)])\n",
      "/home/sean/anaconda3/envs/tf-gpu-cuda8/lib/python3.7/site-packages/tensorboard/compat/tensorflow_stub/dtypes.py:545: FutureWarning: Passing (type, 1) or '1type' as a synonym of type is deprecated; in a future version of numpy, it will be understood as (type, (1,)) / '(1,)type'.\n",
      "  _np_qint32 = np.dtype([(\"qint32\", np.int32, 1)])\n",
      "/home/sean/anaconda3/envs/tf-gpu-cuda8/lib/python3.7/site-packages/tensorboard/compat/tensorflow_stub/dtypes.py:550: FutureWarning: Passing (type, 1) or '1type' as a synonym of type is deprecated; in a future version of numpy, it will be understood as (type, (1,)) / '(1,)type'.\n",
      "  np_resource = np.dtype([(\"resource\", np.ubyte, 1)])\n"
     ]
    }
   ],
   "metadata": {}
  },
  {
   "cell_type": "code",
   "execution_count": 2,
   "source": [
    "from tensorflow.keras.datasets import imdb"
   ],
   "outputs": [],
   "metadata": {}
  },
  {
   "cell_type": "markdown",
   "source": [
    "Following along with the book Deep Learning with Python by Francois Chollet, \n",
    "determining positive or negative reviews\n"
   ],
   "metadata": {}
  },
  {
   "cell_type": "code",
   "execution_count": 3,
   "source": [
    "(train_data,train_labels),(test_data,test_labels) = imdb.load_data(num_words= 10000)"
   ],
   "outputs": [
    {
     "output_type": "stream",
     "name": "stderr",
     "text": [
      "/home/sean/anaconda3/envs/tf-gpu-cuda8/lib/python3.7/site-packages/tensorflow/python/keras/datasets/imdb.py:128: VisibleDeprecationWarning: Creating an ndarray from ragged nested sequences (which is a list-or-tuple of lists-or-tuples-or ndarrays with different lengths or shapes) is deprecated. If you meant to do this, you must specify 'dtype=object' when creating the ndarray.\n",
      "  x_train, y_train = np.array(xs[:idx]), np.array(labels[:idx])\n",
      "/home/sean/anaconda3/envs/tf-gpu-cuda8/lib/python3.7/site-packages/tensorflow/python/keras/datasets/imdb.py:129: VisibleDeprecationWarning: Creating an ndarray from ragged nested sequences (which is a list-or-tuple of lists-or-tuples-or ndarrays with different lengths or shapes) is deprecated. If you meant to do this, you must specify 'dtype=object' when creating the ndarray.\n",
      "  x_test, y_test = np.array(xs[idx:]), np.array(labels[idx:])\n"
     ]
    }
   ],
   "metadata": {}
  },
  {
   "cell_type": "code",
   "execution_count": 4,
   "source": [
    "word_index = imdb.get_word_index()"
   ],
   "outputs": [],
   "metadata": {}
  },
  {
   "cell_type": "markdown",
   "source": [
    "### List decoding \n",
    "The imdb reviews are encoded so that the 10,000 most common words are given an integer each, and then the review is turned into a list. The dictionary which references this is word_index.items()\n",
    "The function below, decodes a single review.\n"
   ],
   "metadata": {}
  },
  {
   "cell_type": "code",
   "execution_count": 5,
   "source": [
    "def Review_decode(review_index):\n",
    "    reverse_word_index = dict(\n",
    "        [(value, key) for (key,value) in word_index.items()])\n",
    "    decoced_review = ' '.join(\n",
    "    reverse_word_index.get(i-3,'?') for i in train_data [review_index]\n",
    "    )\n",
    "    return decoced_review"
   ],
   "outputs": [],
   "metadata": {}
  },
  {
   "cell_type": "markdown",
   "source": [
    "In order to input the reviews into a neural net in keras there are two options to vectorise the imput. Either have padded lists which have length = max length of the review. \n",
    "or each review can be encoded into a matrix of 10,000 x number words in review, where the inputs are one-hot. "
   ],
   "metadata": {}
  },
  {
   "cell_type": "code",
   "execution_count": 6,
   "source": [
    "def vectorise_sequence(sequences, dimention = 10000):\n",
    "    results = np.zeros((len(sequences), dimention))\n",
    "    for i, sequence in enumerate(sequences):\n",
    "        results[i,sequence] = 1\n",
    "    return results\n",
    "    "
   ],
   "outputs": [],
   "metadata": {}
  },
  {
   "cell_type": "code",
   "execution_count": 7,
   "source": [
    "x_train = vectorise_sequence(train_data)\n",
    "x_test = vectorise_sequence(test_data)\n"
   ],
   "outputs": [],
   "metadata": {}
  },
  {
   "cell_type": "code",
   "execution_count": 8,
   "source": [
    "y_train = np.asarray(train_labels).astype(\"float32\")\n",
    "y_test = np.asarray(test_labels).astype(\"float32\")"
   ],
   "outputs": [],
   "metadata": {}
  },
  {
   "cell_type": "code",
   "execution_count": 9,
   "source": [
    "model = models.Sequential()\n",
    "model.add(layers.Dense(16,activation='relu',input_shape = (10000,)))\n",
    "model.add(layers.Dense(16,activation= 'relu'))\n",
    "model.add(layers.Dense(1,activation='sigmoid'))"
   ],
   "outputs": [
    {
     "output_type": "stream",
     "name": "stdout",
     "text": [
      "WARNING:tensorflow:From /home/sean/anaconda3/envs/tf-gpu-cuda8/lib/python3.7/site-packages/tensorflow/python/ops/init_ops.py:1251: calling VarianceScaling.__init__ (from tensorflow.python.ops.init_ops) with dtype is deprecated and will be removed in a future version.\n",
      "Instructions for updating:\n",
      "Call initializer instance with the dtype argument instead of passing it to the constructor\n"
     ]
    }
   ],
   "metadata": {}
  },
  {
   "cell_type": "code",
   "execution_count": 10,
   "source": [
    "model.compile(optimizer='rmsprop',loss='binary_crossentropy',metrics=['accuracy'])"
   ],
   "outputs": [
    {
     "output_type": "stream",
     "name": "stdout",
     "text": [
      "WARNING:tensorflow:From /home/sean/anaconda3/envs/tf-gpu-cuda8/lib/python3.7/site-packages/tensorflow/python/ops/nn_impl.py:180: add_dispatch_support.<locals>.wrapper (from tensorflow.python.ops.array_ops) is deprecated and will be removed in a future version.\n",
      "Instructions for updating:\n",
      "Use tf.where in 2.0, which has the same broadcast rule as np.where\n"
     ]
    }
   ],
   "metadata": {}
  },
  {
   "cell_type": "code",
   "execution_count": 11,
   "source": [
    "x_val = x_train[:10000]\n",
    "partial_x_train = x_train[10000:]\n",
    "y_val = y_train[:10000]\n",
    "partial_y_train = y_train[10000:]"
   ],
   "outputs": [],
   "metadata": {}
  },
  {
   "cell_type": "code",
   "execution_count": 17,
   "source": [
    "history = model.fit(partial_x_train,partial_y_train,epochs= 20,batch_size=512,validation_data=(x_val,y_val))\n",
    "history_dict = history.history\n",
    "history_dict.keys()"
   ],
   "outputs": [
    {
     "output_type": "stream",
     "name": "stdout",
     "text": [
      "Train on 15000 samples, validate on 10000 samples\n",
      "Epoch 1/20\n",
      "15000/15000 [==============================] - 1s 34us/sample - loss: 1.8249e-07 - acc: 1.0000 - val_loss: 4.6109 - val_acc: 0.8566\n",
      "Epoch 2/20\n",
      "15000/15000 [==============================] - 0s 31us/sample - loss: 6.8682e-08 - acc: 1.0000 - val_loss: 4.5975 - val_acc: 0.8566\n",
      "Epoch 3/20\n",
      "15000/15000 [==============================] - 0s 32us/sample - loss: 3.5539e-08 - acc: 1.0000 - val_loss: 4.5852 - val_acc: 0.8573\n",
      "Epoch 4/20\n",
      "15000/15000 [==============================] - 0s 33us/sample - loss: 2.3288e-08 - acc: 1.0000 - val_loss: 4.5798 - val_acc: 0.8580\n",
      "Epoch 5/20\n",
      "15000/15000 [==============================] - 0s 33us/sample - loss: 1.6013e-08 - acc: 1.0000 - val_loss: 4.5790 - val_acc: 0.8578\n",
      "Epoch 6/20\n",
      "15000/15000 [==============================] - 0s 33us/sample - loss: 1.1303e-08 - acc: 1.0000 - val_loss: 4.5817 - val_acc: 0.8577\n",
      "Epoch 7/20\n",
      "15000/15000 [==============================] - 1s 33us/sample - loss: 9.3504e-09 - acc: 1.0000 - val_loss: 4.5942 - val_acc: 0.8579\n",
      "Epoch 8/20\n",
      "15000/15000 [==============================] - 0s 33us/sample - loss: 7.4734e-09 - acc: 1.0000 - val_loss: 4.5997 - val_acc: 0.8581\n",
      "Epoch 9/20\n",
      "15000/15000 [==============================] - 1s 34us/sample - loss: 6.2246e-09 - acc: 1.0000 - val_loss: 4.6092 - val_acc: 0.8580\n",
      "Epoch 10/20\n",
      "15000/15000 [==============================] - 0s 31us/sample - loss: 5.4344e-09 - acc: 1.0000 - val_loss: 4.6187 - val_acc: 0.8586\n",
      "Epoch 11/20\n",
      "15000/15000 [==============================] - 1s 34us/sample - loss: 4.8259e-09 - acc: 1.0000 - val_loss: 4.6283 - val_acc: 0.8585\n",
      "Epoch 12/20\n",
      "15000/15000 [==============================] - 1s 34us/sample - loss: 4.3518e-09 - acc: 1.0000 - val_loss: 4.6387 - val_acc: 0.8584\n",
      "Epoch 13/20\n",
      "15000/15000 [==============================] - 0s 33us/sample - loss: 3.9642e-09 - acc: 1.0000 - val_loss: 4.6492 - val_acc: 0.8586\n",
      "Epoch 14/20\n",
      "15000/15000 [==============================] - 0s 33us/sample - loss: 3.6415e-09 - acc: 1.0000 - val_loss: 4.6588 - val_acc: 0.8585\n",
      "Epoch 15/20\n",
      "15000/15000 [==============================] - 1s 34us/sample - loss: 3.3784e-09 - acc: 1.0000 - val_loss: 4.6664 - val_acc: 0.8586\n",
      "Epoch 16/20\n",
      "15000/15000 [==============================] - 1s 35us/sample - loss: 3.1452e-09 - acc: 1.0000 - val_loss: 4.6734 - val_acc: 0.8586\n",
      "Epoch 17/20\n",
      "15000/15000 [==============================] - 0s 33us/sample - loss: 2.9465e-09 - acc: 1.0000 - val_loss: 4.6809 - val_acc: 0.8585\n",
      "Epoch 18/20\n",
      "15000/15000 [==============================] - 1s 34us/sample - loss: 2.7702e-09 - acc: 1.0000 - val_loss: 4.6884 - val_acc: 0.8587\n",
      "Epoch 19/20\n",
      "15000/15000 [==============================] - 1s 35us/sample - loss: 2.6172e-09 - acc: 1.0000 - val_loss: 4.6970 - val_acc: 0.8586\n",
      "Epoch 20/20\n",
      "15000/15000 [==============================] - 0s 32us/sample - loss: 2.4406e-09 - acc: 1.0000 - val_loss: 4.7029 - val_acc: 0.8586\n"
     ]
    },
    {
     "output_type": "execute_result",
     "data": {
      "text/plain": [
       "dict_keys(['loss', 'acc', 'val_loss', 'val_acc'])"
      ]
     },
     "metadata": {},
     "execution_count": 17
    }
   ],
   "metadata": {}
  },
  {
   "cell_type": "code",
   "execution_count": 20,
   "source": [
    "\n",
    "loss = history_dict['loss']\n",
    "val_loss_values = history_dict['val_loss']\n",
    "epochs = range(1,len(history_dict['acc'])+1)\n",
    "\n",
    "\n",
    "##Plotting \n",
    "plt.plot(epochs, val_loss_values,'b',label ='Validation loss')\n",
    "#plt.plot(epochs, loss,'bo',label ='Training loss')\n",
    "plt.legend()"
   ],
   "outputs": [
    {
     "output_type": "execute_result",
     "data": {
      "text/plain": [
       "<matplotlib.legend.Legend at 0x7f70c478add0>"
      ]
     },
     "metadata": {},
     "execution_count": 20
    },
    {
     "output_type": "display_data",
     "data": {
      "image/png": "[encoded data removed]",
      "text/plain": [
       "<Figure size 432x288 with 1 Axes>"
      ]
     },
     "metadata": {
      "needs_background": "light"
     }
    }
   ],
   "metadata": {}
  },
  {
   "cell_type": "code",
   "execution_count": null,
   "source": [],
   "outputs": [],
   "metadata": {}
  }
 ],
 "metadata": {
  "orig_nbformat": 4,
  "language_info": {
   "name": "python",
   "version": "3.7.11",
   "mimetype": "text/x-python",
   "codemirror_mode": {
    "name": "ipython",
    "version": 3
   },
   "pygments_lexer": "ipython3",
   "nbconvert_exporter": "python",
   "file_extension": ".py"
  },
  "kernelspec": {
   "name": "python3",
   "display_name": "Python 3.7.11 64-bit ('tf-gpu-cuda8': conda)"
  },
  "interpreter": {
   "hash": "a6245cbb02b3002d21bba2b3ee468902fdd02b963ebb1d5643b2a1e6f5c1d59c"
  }
 },
 "nbformat": 4,
 "nbformat_minor": 2
}